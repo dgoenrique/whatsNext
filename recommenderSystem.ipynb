{
 "cells": [
  {
   "cell_type": "markdown",
   "metadata": {
    "id": "A8gYLwErhyfn"
   },
   "source": [
    "# Recommendations Systems"
   ]
  },
  {
   "cell_type": "markdown",
   "metadata": {},
   "source": [
    "Recommendation systems play a crucial role in the success of streaming platforms by providing personalized content suggestions to users and increasing user engagement. Streaming platforms, such as Netflix and  Disney+, uses these systems to recommend movies and TV shows based on the user's previous viewing history.\n"
   ]
  },
  {
   "cell_type": "markdown",
   "metadata": {},
   "source": [
    "## What is a Recommendation System?"
   ]
  },
  {
   "cell_type": "markdown",
   "metadata": {},
   "source": [
    "A recommendation system is an artificial intelligence technology that suggests items or content to users based on their preferences and behaviors. It is used by many online platforms such as e-commerce websites, music streaming services, social media networks, and video sharing platforms.\n",
    "\n",
    "A recommendation can be based on various criteria, including past purchases, search history, demographic information, and other factors. The goal of a recommendation system is to improve the user experience by offering personalized suggestions that the user is more likely to find interesting and relevant. "
   ]
  },
  {
   "cell_type": "markdown",
   "metadata": {},
   "source": [
    "## Types of Recommendation Systems"
   ]
  },
  {
   "cell_type": "markdown",
   "metadata": {},
   "source": [
    "Most recommendation systems and techniques fall into these  three categories:\n",
    "\n",
    "- **Content-based filtering**: They use attributes or features of an item to recommend other items similar to the user’s preferences;\n",
    "\n",
    "- **Collaborative filtering**: This approach recommends items based on similar preferences of other users, given previous interactions between users and items;\n",
    "\n",
    "- **Hybrid recommender systems**: combine the advantages of the types above to create a more personalized, and comprehensive recommending system."
   ]
  },
  {
   "cell_type": "markdown",
   "metadata": {
    "id": "LkyGfcEZi5Bo"
   },
   "source": [
    "# Data and Libary imports\n"
   ]
  },
  {
   "cell_type": "markdown",
   "metadata": {},
   "source": [
    "## Libary imports"
   ]
  },
  {
   "cell_type": "code",
   "execution_count": 1,
   "metadata": {
    "id": "Qwk5-th0fiuP"
   },
   "outputs": [],
   "source": [
    "import pandas as pd\n",
    "import numpy as np\n",
    "import os\n",
    "\n",
    "import matplotlib.pyplot as plt\n",
    "import missingno as msno\n",
    "%matplotlib inline\n",
    "\n",
    "from sklearn.feature_extraction.text import TfidfVectorizer\n",
    "from sklearn.metrics.pairwise import linear_kernel"
   ]
  },
  {
   "cell_type": "markdown",
   "metadata": {
    "id": "D-EuduSVjSMN"
   },
   "source": [
    "## Titles imports"
   ]
  },
  {
   "cell_type": "code",
   "execution_count": 2,
   "metadata": {
    "id": "S6JGS3wmgnpv"
   },
   "outputs": [],
   "source": [
    "amazon_titles = pd.read_csv(\"data/amazon/titles.csv\")\n",
    "appletv_titles = pd.read_csv(\"data/appletv/titles.csv\")\n",
    "disney_titles = pd.read_csv(\"data/disney/titles.csv\")\n",
    "hbo_titles = pd.read_csv(\"data/hbo/titles.csv\")\n",
    "netflix_titles = pd.read_csv(\"data/netflix/titles.csv\")\n",
    "paramount_titles = pd.read_csv(\"data/paramount/titles.csv\")"
   ]
  },
  {
   "cell_type": "markdown",
   "metadata": {
    "id": "tMc49beLkaVS"
   },
   "source": [
    "## Concatenation"
   ]
  },
  {
   "cell_type": "code",
   "execution_count": 3,
   "metadata": {
    "id": "UmGTN3QckP0E"
   },
   "outputs": [],
   "source": [
    "titles = pd.concat([amazon_titles, appletv_titles, disney_titles, hbo_titles, netflix_titles, paramount_titles], axis = 0).reset_index()\n",
    "titles.drop(['index'], axis=1, inplace=True)"
   ]
  },
  {
   "cell_type": "code",
   "execution_count": 4,
   "metadata": {
    "colab": {
     "base_uri": "https://localhost:8080/",
     "height": 1000
    },
    "id": "xEmsiDHQI2TK",
    "outputId": "27673ad4-8605-4cf8-a1b5-81d742bd3ad6"
   },
   "outputs": [
    {
     "data": {
      "text/html": [
       "<div>\n",
       "<style scoped>\n",
       "    .dataframe tbody tr th:only-of-type {\n",
       "        vertical-align: middle;\n",
       "    }\n",
       "\n",
       "    .dataframe tbody tr th {\n",
       "        vertical-align: top;\n",
       "    }\n",
       "\n",
       "    .dataframe thead th {\n",
       "        text-align: right;\n",
       "    }\n",
       "</style>\n",
       "<table border=\"1\" class=\"dataframe\">\n",
       "  <thead>\n",
       "    <tr style=\"text-align: right;\">\n",
       "      <th></th>\n",
       "      <th>id</th>\n",
       "      <th>title</th>\n",
       "      <th>type</th>\n",
       "      <th>description</th>\n",
       "      <th>release_year</th>\n",
       "      <th>age_certification</th>\n",
       "      <th>runtime</th>\n",
       "      <th>genres</th>\n",
       "      <th>production_countries</th>\n",
       "      <th>seasons</th>\n",
       "      <th>imdb_id</th>\n",
       "      <th>imdb_score</th>\n",
       "      <th>imdb_votes</th>\n",
       "      <th>tmdb_popularity</th>\n",
       "      <th>tmdb_score</th>\n",
       "    </tr>\n",
       "  </thead>\n",
       "  <tbody>\n",
       "    <tr>\n",
       "      <th>11326</th>\n",
       "      <td>tm57241</td>\n",
       "      <td>Never Been Kissed</td>\n",
       "      <td>MOVIE</td>\n",
       "      <td>Josie Geller, a baby-faced junior copywriter a...</td>\n",
       "      <td>1999</td>\n",
       "      <td>PG-13</td>\n",
       "      <td>107</td>\n",
       "      <td>['comedy', 'drama', 'romance']</td>\n",
       "      <td>['US']</td>\n",
       "      <td>NaN</td>\n",
       "      <td>tt0151738</td>\n",
       "      <td>6.0</td>\n",
       "      <td>93264.0</td>\n",
       "      <td>21.357</td>\n",
       "      <td>6.200</td>\n",
       "    </tr>\n",
       "    <tr>\n",
       "      <th>11392</th>\n",
       "      <td>ts22130</td>\n",
       "      <td>Rolie Polie Olie</td>\n",
       "      <td>SHOW</td>\n",
       "      <td>Rolie Polie Olie was a children's television s...</td>\n",
       "      <td>1998</td>\n",
       "      <td>TV-Y</td>\n",
       "      <td>21</td>\n",
       "      <td>['animation', 'family', 'fantasy', 'scifi', 'c...</td>\n",
       "      <td>['FR', 'US', 'GB', 'CA']</td>\n",
       "      <td>6.0</td>\n",
       "      <td>tt0172049</td>\n",
       "      <td>6.3</td>\n",
       "      <td>3012.0</td>\n",
       "      <td>13.848</td>\n",
       "      <td>6.600</td>\n",
       "    </tr>\n",
       "    <tr>\n",
       "      <th>11591</th>\n",
       "      <td>tm98015</td>\n",
       "      <td>The Last Song</td>\n",
       "      <td>MOVIE</td>\n",
       "      <td>A drama centered on a rebellious girl who is s...</td>\n",
       "      <td>2010</td>\n",
       "      <td>PG</td>\n",
       "      <td>107</td>\n",
       "      <td>['drama', 'romance', 'music']</td>\n",
       "      <td>['US']</td>\n",
       "      <td>NaN</td>\n",
       "      <td>tt1294226</td>\n",
       "      <td>6.0</td>\n",
       "      <td>89378.0</td>\n",
       "      <td>15.081</td>\n",
       "      <td>7.242</td>\n",
       "    </tr>\n",
       "    <tr>\n",
       "      <th>11618</th>\n",
       "      <td>ts22233</td>\n",
       "      <td>Shake It Up</td>\n",
       "      <td>SHOW</td>\n",
       "      <td>Best pals CeCe and Rocky dream of dancing star...</td>\n",
       "      <td>2010</td>\n",
       "      <td>TV-G</td>\n",
       "      <td>25</td>\n",
       "      <td>['comedy', 'family']</td>\n",
       "      <td>['US']</td>\n",
       "      <td>3.0</td>\n",
       "      <td>tt1661326</td>\n",
       "      <td>8.0</td>\n",
       "      <td>88.0</td>\n",
       "      <td>41.672</td>\n",
       "      <td>7.800</td>\n",
       "    </tr>\n",
       "    <tr>\n",
       "      <th>11827</th>\n",
       "      <td>ts7273</td>\n",
       "      <td>Doc McStuffins</td>\n",
       "      <td>SHOW</td>\n",
       "      <td>A young African-American girl aspires to be a ...</td>\n",
       "      <td>2012</td>\n",
       "      <td>TV-G</td>\n",
       "      <td>22</td>\n",
       "      <td>['music', 'animation', 'family', 'fantasy']</td>\n",
       "      <td>['US']</td>\n",
       "      <td>6.0</td>\n",
       "      <td>tt1710295</td>\n",
       "      <td>6.6</td>\n",
       "      <td>2552.0</td>\n",
       "      <td>35.228</td>\n",
       "      <td>5.800</td>\n",
       "    </tr>\n",
       "  </tbody>\n",
       "</table>\n",
       "</div>"
      ],
      "text/plain": [
       "            id              title   type  \\\n",
       "11326  tm57241  Never Been Kissed  MOVIE   \n",
       "11392  ts22130   Rolie Polie Olie   SHOW   \n",
       "11591  tm98015      The Last Song  MOVIE   \n",
       "11618  ts22233        Shake It Up   SHOW   \n",
       "11827   ts7273     Doc McStuffins   SHOW   \n",
       "\n",
       "                                             description  release_year  \\\n",
       "11326  Josie Geller, a baby-faced junior copywriter a...          1999   \n",
       "11392  Rolie Polie Olie was a children's television s...          1998   \n",
       "11591  A drama centered on a rebellious girl who is s...          2010   \n",
       "11618  Best pals CeCe and Rocky dream of dancing star...          2010   \n",
       "11827  A young African-American girl aspires to be a ...          2012   \n",
       "\n",
       "      age_certification  runtime  \\\n",
       "11326             PG-13      107   \n",
       "11392              TV-Y       21   \n",
       "11591                PG      107   \n",
       "11618              TV-G       25   \n",
       "11827              TV-G       22   \n",
       "\n",
       "                                                  genres  \\\n",
       "11326                     ['comedy', 'drama', 'romance']   \n",
       "11392  ['animation', 'family', 'fantasy', 'scifi', 'c...   \n",
       "11591                      ['drama', 'romance', 'music']   \n",
       "11618                               ['comedy', 'family']   \n",
       "11827        ['music', 'animation', 'family', 'fantasy']   \n",
       "\n",
       "           production_countries  seasons    imdb_id  imdb_score  imdb_votes  \\\n",
       "11326                    ['US']      NaN  tt0151738         6.0     93264.0   \n",
       "11392  ['FR', 'US', 'GB', 'CA']      6.0  tt0172049         6.3      3012.0   \n",
       "11591                    ['US']      NaN  tt1294226         6.0     89378.0   \n",
       "11618                    ['US']      3.0  tt1661326         8.0        88.0   \n",
       "11827                    ['US']      6.0  tt1710295         6.6      2552.0   \n",
       "\n",
       "       tmdb_popularity  tmdb_score  \n",
       "11326           21.357       6.200  \n",
       "11392           13.848       6.600  \n",
       "11591           15.081       7.242  \n",
       "11618           41.672       7.800  \n",
       "11827           35.228       5.800  "
      ]
     },
     "execution_count": 4,
     "metadata": {},
     "output_type": "execute_result"
    }
   ],
   "source": [
    "# Seeing if we have duplicates\n",
    "titles[titles.duplicated() == True].head(5)"
   ]
  },
  {
   "cell_type": "code",
   "execution_count": 5,
   "metadata": {
    "id": "T5eE6yv-k_k9"
   },
   "outputs": [],
   "source": [
    "# Dropping duplicates\n",
    "titles.drop_duplicates(inplace=True)"
   ]
  },
  {
   "cell_type": "code",
   "execution_count": 6,
   "metadata": {
    "colab": {
     "base_uri": "https://localhost:8080/",
     "height": 548
    },
    "id": "N_DS8fPfoZ6-",
    "outputId": "5d5a8256-0794-4cb6-f359-7584a6ffe2d1"
   },
   "outputs": [
    {
     "data": {
      "text/html": [
       "<div>\n",
       "<style scoped>\n",
       "    .dataframe tbody tr th:only-of-type {\n",
       "        vertical-align: middle;\n",
       "    }\n",
       "\n",
       "    .dataframe tbody tr th {\n",
       "        vertical-align: top;\n",
       "    }\n",
       "\n",
       "    .dataframe thead th {\n",
       "        text-align: right;\n",
       "    }\n",
       "</style>\n",
       "<table border=\"1\" class=\"dataframe\">\n",
       "  <thead>\n",
       "    <tr style=\"text-align: right;\">\n",
       "      <th></th>\n",
       "      <th>id</th>\n",
       "      <th>title</th>\n",
       "      <th>type</th>\n",
       "      <th>description</th>\n",
       "      <th>release_year</th>\n",
       "      <th>age_certification</th>\n",
       "      <th>runtime</th>\n",
       "      <th>genres</th>\n",
       "      <th>production_countries</th>\n",
       "      <th>seasons</th>\n",
       "      <th>imdb_id</th>\n",
       "      <th>imdb_score</th>\n",
       "      <th>imdb_votes</th>\n",
       "      <th>tmdb_popularity</th>\n",
       "      <th>tmdb_score</th>\n",
       "    </tr>\n",
       "  </thead>\n",
       "  <tbody>\n",
       "    <tr>\n",
       "      <th>0</th>\n",
       "      <td>tm87233</td>\n",
       "      <td>It's a Wonderful Life</td>\n",
       "      <td>MOVIE</td>\n",
       "      <td>A holiday favourite for generations...  George...</td>\n",
       "      <td>1946</td>\n",
       "      <td>PG</td>\n",
       "      <td>130</td>\n",
       "      <td>['drama', 'comedy', 'family', 'fantasy', 'roma...</td>\n",
       "      <td>['US']</td>\n",
       "      <td>NaN</td>\n",
       "      <td>tt0038650</td>\n",
       "      <td>8.6</td>\n",
       "      <td>467766.0</td>\n",
       "      <td>27.611</td>\n",
       "      <td>8.261</td>\n",
       "    </tr>\n",
       "    <tr>\n",
       "      <th>1</th>\n",
       "      <td>tm143047</td>\n",
       "      <td>Duck Soup</td>\n",
       "      <td>MOVIE</td>\n",
       "      <td>Rufus T. Firefly is named president/dictator o...</td>\n",
       "      <td>1933</td>\n",
       "      <td>NaN</td>\n",
       "      <td>69</td>\n",
       "      <td>['comedy', 'war']</td>\n",
       "      <td>['US']</td>\n",
       "      <td>NaN</td>\n",
       "      <td>tt0023969</td>\n",
       "      <td>7.8</td>\n",
       "      <td>60933.0</td>\n",
       "      <td>9.013</td>\n",
       "      <td>7.357</td>\n",
       "    </tr>\n",
       "    <tr>\n",
       "      <th>2</th>\n",
       "      <td>tm83884</td>\n",
       "      <td>His Girl Friday</td>\n",
       "      <td>MOVIE</td>\n",
       "      <td>Hildy, the journalist former wife of newspaper...</td>\n",
       "      <td>1940</td>\n",
       "      <td>NaN</td>\n",
       "      <td>92</td>\n",
       "      <td>['drama', 'romance', 'comedy']</td>\n",
       "      <td>['US']</td>\n",
       "      <td>NaN</td>\n",
       "      <td>tt0032599</td>\n",
       "      <td>7.8</td>\n",
       "      <td>60244.0</td>\n",
       "      <td>14.759</td>\n",
       "      <td>7.433</td>\n",
       "    </tr>\n",
       "    <tr>\n",
       "      <th>3</th>\n",
       "      <td>ts20945</td>\n",
       "      <td>The Three Stooges</td>\n",
       "      <td>SHOW</td>\n",
       "      <td>The Three Stooges were an American vaudeville ...</td>\n",
       "      <td>1934</td>\n",
       "      <td>TV-PG</td>\n",
       "      <td>19</td>\n",
       "      <td>['comedy', 'family']</td>\n",
       "      <td>['US']</td>\n",
       "      <td>26.0</td>\n",
       "      <td>tt0850645</td>\n",
       "      <td>8.5</td>\n",
       "      <td>1149.0</td>\n",
       "      <td>15.424</td>\n",
       "      <td>7.600</td>\n",
       "    </tr>\n",
       "    <tr>\n",
       "      <th>4</th>\n",
       "      <td>tm5012</td>\n",
       "      <td>Red River</td>\n",
       "      <td>MOVIE</td>\n",
       "      <td>Headstrong Thomas Dunson starts a thriving Tex...</td>\n",
       "      <td>1948</td>\n",
       "      <td>NaN</td>\n",
       "      <td>133</td>\n",
       "      <td>['western', 'drama', 'romance', 'action']</td>\n",
       "      <td>['US']</td>\n",
       "      <td>NaN</td>\n",
       "      <td>tt0040724</td>\n",
       "      <td>7.8</td>\n",
       "      <td>32210.0</td>\n",
       "      <td>12.400</td>\n",
       "      <td>7.400</td>\n",
       "    </tr>\n",
       "  </tbody>\n",
       "</table>\n",
       "</div>"
      ],
      "text/plain": [
       "         id                  title   type  \\\n",
       "0   tm87233  It's a Wonderful Life  MOVIE   \n",
       "1  tm143047              Duck Soup  MOVIE   \n",
       "2   tm83884        His Girl Friday  MOVIE   \n",
       "3   ts20945      The Three Stooges   SHOW   \n",
       "4    tm5012              Red River  MOVIE   \n",
       "\n",
       "                                         description  release_year  \\\n",
       "0  A holiday favourite for generations...  George...          1946   \n",
       "1  Rufus T. Firefly is named president/dictator o...          1933   \n",
       "2  Hildy, the journalist former wife of newspaper...          1940   \n",
       "3  The Three Stooges were an American vaudeville ...          1934   \n",
       "4  Headstrong Thomas Dunson starts a thriving Tex...          1948   \n",
       "\n",
       "  age_certification  runtime  \\\n",
       "0                PG      130   \n",
       "1               NaN       69   \n",
       "2               NaN       92   \n",
       "3             TV-PG       19   \n",
       "4               NaN      133   \n",
       "\n",
       "                                              genres production_countries  \\\n",
       "0  ['drama', 'comedy', 'family', 'fantasy', 'roma...               ['US']   \n",
       "1                                  ['comedy', 'war']               ['US']   \n",
       "2                     ['drama', 'romance', 'comedy']               ['US']   \n",
       "3                               ['comedy', 'family']               ['US']   \n",
       "4          ['western', 'drama', 'romance', 'action']               ['US']   \n",
       "\n",
       "   seasons    imdb_id  imdb_score  imdb_votes  tmdb_popularity  tmdb_score  \n",
       "0      NaN  tt0038650         8.6    467766.0           27.611       8.261  \n",
       "1      NaN  tt0023969         7.8     60933.0            9.013       7.357  \n",
       "2      NaN  tt0032599         7.8     60244.0           14.759       7.433  \n",
       "3     26.0  tt0850645         8.5      1149.0           15.424       7.600  \n",
       "4      NaN  tt0040724         7.8     32210.0           12.400       7.400  "
      ]
     },
     "execution_count": 6,
     "metadata": {},
     "output_type": "execute_result"
    }
   ],
   "source": [
    "titles.head()"
   ]
  },
  {
   "cell_type": "markdown",
   "metadata": {
    "id": "xNV00Z-bpDp5"
   },
   "source": [
    "# Cleaning the Data"
   ]
  },
  {
   "cell_type": "markdown",
   "metadata": {
    "id": "nOH5hn_OpLV6"
   },
   "source": [
    "## Seeing how many null values"
   ]
  },
  {
   "cell_type": "markdown",
   "metadata": {
    "id": "r3xlQTjag_XL"
   },
   "source": [
    "First, let's see how many non-null values we have for each column"
   ]
  },
  {
   "cell_type": "code",
   "execution_count": 7,
   "metadata": {
    "colab": {
     "base_uri": "https://localhost:8080/"
    },
    "id": "L15J6veFpOfz",
    "outputId": "ae3852bf-b5de-46ee-98ce-7f088293e6c3"
   },
   "outputs": [
    {
     "name": "stdout",
     "output_type": "stream",
     "text": [
      "<class 'pandas.core.frame.DataFrame'>\n",
      "Int64Index: 23366 entries, 0 to 25250\n",
      "Data columns (total 15 columns):\n",
      " #   Column                Non-Null Count  Dtype  \n",
      "---  ------                --------------  -----  \n",
      " 0   id                    23366 non-null  object \n",
      " 1   title                 23366 non-null  object \n",
      " 2   type                  23366 non-null  object \n",
      " 3   description           23182 non-null  object \n",
      " 4   release_year          23366 non-null  int64  \n",
      " 5   age_certification     11397 non-null  object \n",
      " 6   runtime               23366 non-null  int64  \n",
      " 7   genres                23366 non-null  object \n",
      " 8   production_countries  23366 non-null  object \n",
      " 9   seasons               5629 non-null   float64\n",
      " 10  imdb_id               21418 non-null  object \n",
      " 11  imdb_score            20812 non-null  float64\n",
      " 12  imdb_votes            20752 non-null  float64\n",
      " 13  tmdb_popularity       22649 non-null  float64\n",
      " 14  tmdb_score            20381 non-null  float64\n",
      "dtypes: float64(5), int64(2), object(8)\n",
      "memory usage: 2.9+ MB\n"
     ]
    }
   ],
   "source": [
    "titles.info()"
   ]
  },
  {
   "cell_type": "markdown",
   "metadata": {
    "id": "-2XWysc3pRWO"
   },
   "source": [
    "We have some gaps in each column, let's see how many null values are for each column"
   ]
  },
  {
   "cell_type": "code",
   "execution_count": 8,
   "metadata": {
    "colab": {
     "base_uri": "https://localhost:8080/"
    },
    "id": "JmVZ_aUMuk_g",
    "outputId": "fffdd451-53c7-4d16-c64d-5291637b55cc"
   },
   "outputs": [
    {
     "data": {
      "text/plain": [
       "id                          0\n",
       "title                       0\n",
       "type                        0\n",
       "description               184\n",
       "release_year                0\n",
       "age_certification       11969\n",
       "runtime                     0\n",
       "genres                      0\n",
       "production_countries        0\n",
       "seasons                 17737\n",
       "imdb_id                  1948\n",
       "imdb_score               2554\n",
       "imdb_votes               2614\n",
       "tmdb_popularity           717\n",
       "tmdb_score               2985\n",
       "dtype: int64"
      ]
     },
     "execution_count": 8,
     "metadata": {},
     "output_type": "execute_result"
    }
   ],
   "source": [
    "titles.isna().sum()"
   ]
  },
  {
   "cell_type": "markdown",
   "metadata": {},
   "source": [
    "To get a better understanging of the picture, let's use [missingno](https://github.com/ResidentMario/missingno) to see the missing data in our dataset:"
   ]
  },
  {
   "cell_type": "code",
   "execution_count": 9,
   "metadata": {},
   "outputs": [
    {
     "data": {
      "text/plain": [
       "Text(0.5, 1.0, 'Distribution of Missing Values')"
      ]
     },
     "execution_count": 9,
     "metadata": {},
     "output_type": "execute_result"
    },
    {
     "data": {
      "image/png": "[encoded data removed]",
      "text/plain": [
       "<Figure size 3000x1000 with 1 Axes>"
      ]
     },
     "metadata": {},
     "output_type": "display_data"
    }
   ],
   "source": [
    "msno.matrix(titles, sparkline=False, figsize=(30,10), color=(0.69,0.23,0.42))\n",
    "plt.title('Distribution of Missing Values', fontsize=40)"
   ]
  },
  {
   "cell_type": "markdown",
   "metadata": {
    "id": "mizvsD9dpnQX"
   },
   "source": [
    "## Handling the 'genres' and 'production_countries' columns"
   ]
  },
  {
   "cell_type": "markdown",
   "metadata": {
    "id": "A-HerLAdp19Z"
   },
   "source": [
    "These two columns are formed by list values, so we need to handle these values to work with a single value."
   ]
  },
  {
   "cell_type": "code",
   "execution_count": 10,
   "metadata": {
    "colab": {
     "base_uri": "https://localhost:8080/"
    },
    "id": "YFX_NxIqqTkx",
    "outputId": "da4e874f-3c30-4fd4-a3d7-a7c490159e9f"
   },
   "outputs": [
    {
     "name": "stderr",
     "output_type": "stream",
     "text": [
      "C:\\Users\\diego\\AppData\\Local\\Temp\\ipykernel_13848\\2497750954.py:2: FutureWarning: The default value of regex will change from True to False in a future version. In addition, single character regular expressions will *not* be treated as literal strings when regex=True.\n",
      "  titles['genres'] = titles['genres'].str.replace(r'[','').str.replace(r\"'\",'').str.replace(r']','')\n",
      "C:\\Users\\diego\\AppData\\Local\\Temp\\ipykernel_13848\\2497750954.py:6: FutureWarning: The default value of regex will change from True to False in a future version. In addition, single character regular expressions will *not* be treated as literal strings when regex=True.\n",
      "  titles['production_countries'] = titles['production_countries'].str.replace(r\"[\", '').str.replace(r\"'\", '').str.replace(r\"]\", '')\n"
     ]
    }
   ],
   "source": [
    "# For genres\n",
    "titles['genres'] = titles['genres'].str.replace(r'[','').str.replace(r\"'\",'').str.replace(r']','')\n",
    "titles['genre'] = titles['genres'].str.split(',').str[0]\n",
    "\n",
    "# For countries\n",
    "titles['production_countries'] = titles['production_countries'].str.replace(r\"[\", '').str.replace(r\"'\", '').str.replace(r\"]\", '')\n",
    "titles['production_country'] = titles['production_countries'].str.split(',').str[0]\n"
   ]
  },
  {
   "cell_type": "code",
   "execution_count": 11,
   "metadata": {
    "id": "0keKhePKtrgr"
   },
   "outputs": [],
   "source": [
    "titles.drop(['genres', 'production_countries'], axis=1, inplace=True)"
   ]
  },
  {
   "cell_type": "code",
   "execution_count": 12,
   "metadata": {
    "colab": {
     "base_uri": "https://localhost:8080/",
     "height": 0
    },
    "id": "anvSCXZxq78M",
    "outputId": "d6a732f7-e342-4bad-c08d-1148e7dca3f8"
   },
   "outputs": [
    {
     "data": {
      "text/html": [
       "<div>\n",
       "<style scoped>\n",
       "    .dataframe tbody tr th:only-of-type {\n",
       "        vertical-align: middle;\n",
       "    }\n",
       "\n",
       "    .dataframe tbody tr th {\n",
       "        vertical-align: top;\n",
       "    }\n",
       "\n",
       "    .dataframe thead th {\n",
       "        text-align: right;\n",
       "    }\n",
       "</style>\n",
       "<table border=\"1\" class=\"dataframe\">\n",
       "  <thead>\n",
       "    <tr style=\"text-align: right;\">\n",
       "      <th></th>\n",
       "      <th>id</th>\n",
       "      <th>title</th>\n",
       "      <th>type</th>\n",
       "      <th>description</th>\n",
       "      <th>release_year</th>\n",
       "      <th>age_certification</th>\n",
       "      <th>runtime</th>\n",
       "      <th>seasons</th>\n",
       "      <th>imdb_id</th>\n",
       "      <th>imdb_score</th>\n",
       "      <th>imdb_votes</th>\n",
       "      <th>tmdb_popularity</th>\n",
       "      <th>tmdb_score</th>\n",
       "      <th>genre</th>\n",
       "      <th>production_country</th>\n",
       "    </tr>\n",
       "  </thead>\n",
       "  <tbody>\n",
       "    <tr>\n",
       "      <th>0</th>\n",
       "      <td>tm87233</td>\n",
       "      <td>It's a Wonderful Life</td>\n",
       "      <td>MOVIE</td>\n",
       "      <td>A holiday favourite for generations...  George...</td>\n",
       "      <td>1946</td>\n",
       "      <td>PG</td>\n",
       "      <td>130</td>\n",
       "      <td>NaN</td>\n",
       "      <td>tt0038650</td>\n",
       "      <td>8.6</td>\n",
       "      <td>467766.0</td>\n",
       "      <td>27.611</td>\n",
       "      <td>8.261</td>\n",
       "      <td>drama</td>\n",
       "      <td>US</td>\n",
       "    </tr>\n",
       "    <tr>\n",
       "      <th>1</th>\n",
       "      <td>tm143047</td>\n",
       "      <td>Duck Soup</td>\n",
       "      <td>MOVIE</td>\n",
       "      <td>Rufus T. Firefly is named president/dictator o...</td>\n",
       "      <td>1933</td>\n",
       "      <td>NaN</td>\n",
       "      <td>69</td>\n",
       "      <td>NaN</td>\n",
       "      <td>tt0023969</td>\n",
       "      <td>7.8</td>\n",
       "      <td>60933.0</td>\n",
       "      <td>9.013</td>\n",
       "      <td>7.357</td>\n",
       "      <td>comedy</td>\n",
       "      <td>US</td>\n",
       "    </tr>\n",
       "    <tr>\n",
       "      <th>2</th>\n",
       "      <td>tm83884</td>\n",
       "      <td>His Girl Friday</td>\n",
       "      <td>MOVIE</td>\n",
       "      <td>Hildy, the journalist former wife of newspaper...</td>\n",
       "      <td>1940</td>\n",
       "      <td>NaN</td>\n",
       "      <td>92</td>\n",
       "      <td>NaN</td>\n",
       "      <td>tt0032599</td>\n",
       "      <td>7.8</td>\n",
       "      <td>60244.0</td>\n",
       "      <td>14.759</td>\n",
       "      <td>7.433</td>\n",
       "      <td>drama</td>\n",
       "      <td>US</td>\n",
       "    </tr>\n",
       "    <tr>\n",
       "      <th>3</th>\n",
       "      <td>ts20945</td>\n",
       "      <td>The Three Stooges</td>\n",
       "      <td>SHOW</td>\n",
       "      <td>The Three Stooges were an American vaudeville ...</td>\n",
       "      <td>1934</td>\n",
       "      <td>TV-PG</td>\n",
       "      <td>19</td>\n",
       "      <td>26.0</td>\n",
       "      <td>tt0850645</td>\n",
       "      <td>8.5</td>\n",
       "      <td>1149.0</td>\n",
       "      <td>15.424</td>\n",
       "      <td>7.600</td>\n",
       "      <td>comedy</td>\n",
       "      <td>US</td>\n",
       "    </tr>\n",
       "    <tr>\n",
       "      <th>4</th>\n",
       "      <td>tm5012</td>\n",
       "      <td>Red River</td>\n",
       "      <td>MOVIE</td>\n",
       "      <td>Headstrong Thomas Dunson starts a thriving Tex...</td>\n",
       "      <td>1948</td>\n",
       "      <td>NaN</td>\n",
       "      <td>133</td>\n",
       "      <td>NaN</td>\n",
       "      <td>tt0040724</td>\n",
       "      <td>7.8</td>\n",
       "      <td>32210.0</td>\n",
       "      <td>12.400</td>\n",
       "      <td>7.400</td>\n",
       "      <td>western</td>\n",
       "      <td>US</td>\n",
       "    </tr>\n",
       "  </tbody>\n",
       "</table>\n",
       "</div>"
      ],
      "text/plain": [
       "         id                  title   type  \\\n",
       "0   tm87233  It's a Wonderful Life  MOVIE   \n",
       "1  tm143047              Duck Soup  MOVIE   \n",
       "2   tm83884        His Girl Friday  MOVIE   \n",
       "3   ts20945      The Three Stooges   SHOW   \n",
       "4    tm5012              Red River  MOVIE   \n",
       "\n",
       "                                         description  release_year  \\\n",
       "0  A holiday favourite for generations...  George...          1946   \n",
       "1  Rufus T. Firefly is named president/dictator o...          1933   \n",
       "2  Hildy, the journalist former wife of newspaper...          1940   \n",
       "3  The Three Stooges were an American vaudeville ...          1934   \n",
       "4  Headstrong Thomas Dunson starts a thriving Tex...          1948   \n",
       "\n",
       "  age_certification  runtime  seasons    imdb_id  imdb_score  imdb_votes  \\\n",
       "0                PG      130      NaN  tt0038650         8.6    467766.0   \n",
       "1               NaN       69      NaN  tt0023969         7.8     60933.0   \n",
       "2               NaN       92      NaN  tt0032599         7.8     60244.0   \n",
       "3             TV-PG       19     26.0  tt0850645         8.5      1149.0   \n",
       "4               NaN      133      NaN  tt0040724         7.8     32210.0   \n",
       "\n",
       "   tmdb_popularity  tmdb_score    genre production_country  \n",
       "0           27.611       8.261    drama                 US  \n",
       "1            9.013       7.357   comedy                 US  \n",
       "2           14.759       7.433    drama                 US  \n",
       "3           15.424       7.600   comedy                 US  \n",
       "4           12.400       7.400  western                 US  "
      ]
     },
     "execution_count": 12,
     "metadata": {},
     "output_type": "execute_result"
    }
   ],
   "source": [
    "titles.head()"
   ]
  },
  {
   "cell_type": "code",
   "execution_count": 13,
   "metadata": {
    "colab": {
     "base_uri": "https://localhost:8080/"
    },
    "id": "OuRxFeKKujmL",
    "outputId": "2060f7bd-c6ff-4f3f-c46a-6583675a73b4"
   },
   "outputs": [
    {
     "data": {
      "text/plain": [
       "array(['drama', 'comedy', 'western', 'war', 'scifi', 'romance', 'action',\n",
       "       'fantasy', 'horror', 'crime', 'history', 'music', 'thriller',\n",
       "       'documentation', '', 'family', 'reality', 'animation', 'sport',\n",
       "       'european'], dtype=object)"
      ]
     },
     "execution_count": 13,
     "metadata": {},
     "output_type": "execute_result"
    }
   ],
   "source": [
    "titles['genre'].unique()"
   ]
  },
  {
   "cell_type": "code",
   "execution_count": 14,
   "metadata": {
    "colab": {
     "base_uri": "https://localhost:8080/"
    },
    "id": "nWk9saQbvERL",
    "outputId": "c1c31035-64f4-4ada-d3aa-959dcdc9df5e"
   },
   "outputs": [
    {
     "data": {
      "text/plain": [
       "array(['US', 'GB', 'SU', 'DE', 'MX', 'CA', 'IN', '', 'SE', 'HK', 'IT',\n",
       "       'FR', 'JP', 'NL', 'PR', 'ES', 'IE', 'CH', 'RO', 'XC', 'TW', 'CO',\n",
       "       'MC', 'KR', 'IL', 'PH', 'EG', 'YU', 'RU', 'BD', 'AU', 'NZ', 'CN',\n",
       "       'ZA', 'LI', 'GR', 'DK', 'CZ', 'IR', 'PT', 'BE', 'AR', 'ID', 'VE',\n",
       "       'GH', 'AT', 'NO', 'BG', 'TH', 'PL', 'AE', 'AF', 'JM', 'RS', 'SK',\n",
       "       'SG', 'BR', 'HU', 'CL', 'LT', 'UA', 'QA', 'KZ', 'NG', 'ZM', 'IS',\n",
       "       'DO', 'TR', 'VN', 'SO', 'BO', 'FI', 'DZ', 'MT', 'GE', 'ET', 'LU',\n",
       "       'TT', 'MA', 'BY', 'MY', 'PK', 'PE', 'XK', 'TC', 'SV', 'KE', 'LB',\n",
       "       'NP', 'MN', 'NI', 'CR', 'PA', 'UZ', 'NA', 'AZ', 'KH', 'CM', 'EE',\n",
       "       'CU', 'AL', 'IQ', 'BM', 'UY', 'HR', 'OM', 'HN', 'JO', 'EC', 'IO',\n",
       "       'MK', 'SI', 'KI', 'GT', 'BW', 'SN', 'PS', 'SA', 'SY', 'GL', 'TN',\n",
       "       'CD', 'KW', 'PY', 'TZ', 'ZW', 'MU', 'SB'], dtype=object)"
      ]
     },
     "execution_count": 14,
     "metadata": {},
     "output_type": "execute_result"
    }
   ],
   "source": [
    "titles['production_country'].unique()"
   ]
  },
  {
   "cell_type": "markdown",
   "metadata": {
    "id": "KsKdDniVvHgh"
   },
   "source": [
    "We can see that in both columns we have an empty value. Let's fill these values with NaN to make it easier to deal with in the future."
   ]
  },
  {
   "cell_type": "code",
   "execution_count": 15,
   "metadata": {
    "id": "BbkgH4-4vXMB"
   },
   "outputs": [],
   "source": [
    "titles['genre'] = titles['genre'].replace('', np.nan)\n",
    "titles['production_country'] = titles['production_country'].replace('',np.nan)"
   ]
  },
  {
   "cell_type": "markdown",
   "metadata": {
    "id": "YWt493hTpe6q"
   },
   "source": [
    "## Handling the 'seasons' column"
   ]
  },
  {
   "cell_type": "markdown",
   "metadata": {
    "id": "2ML-ib_uk8TS"
   },
   "source": [
    "Now let's deal with the 'seasons' column. At first glance, we can say that all the null values are of type 'MOVIE'. Let's see if this is true by comparing the number of null values with the number of movie titles that do not have a value in 'seasons'."
   ]
  },
  {
   "cell_type": "code",
   "execution_count": 16,
   "metadata": {
    "colab": {
     "base_uri": "https://localhost:8080/"
    },
    "id": "UnxIfT45muew",
    "outputId": "94bb64b5-f121-4e3c-fe40-c3ed82a40e2d"
   },
   "outputs": [
    {
     "data": {
      "text/plain": [
       "True"
      ]
     },
     "execution_count": 16,
     "metadata": {},
     "output_type": "execute_result"
    }
   ],
   "source": [
    "len(titles.loc[(titles['seasons'].isna()) & (titles['type'] == 'MOVIE')]) == titles.seasons.isna().sum()"
   ]
  },
  {
   "cell_type": "markdown",
   "metadata": {
    "id": "9uvvANSWoVQ8"
   },
   "source": [
    "So, all the null values from 'season' is from movies. Let's change the null values to 0."
   ]
  },
  {
   "cell_type": "code",
   "execution_count": 17,
   "metadata": {
    "id": "TzjgW3rGokHz"
   },
   "outputs": [],
   "source": [
    "titles['seasons'].fillna(0, inplace=True)"
   ]
  },
  {
   "cell_type": "code",
   "execution_count": 18,
   "metadata": {
    "colab": {
     "base_uri": "https://localhost:8080/",
     "height": 0
    },
    "id": "AQC4i_npo1-Q",
    "outputId": "4ae45d46-8af8-4c6a-8889-50de452ae0aa"
   },
   "outputs": [
    {
     "data": {
      "text/html": [
       "<div>\n",
       "<style scoped>\n",
       "    .dataframe tbody tr th:only-of-type {\n",
       "        vertical-align: middle;\n",
       "    }\n",
       "\n",
       "    .dataframe tbody tr th {\n",
       "        vertical-align: top;\n",
       "    }\n",
       "\n",
       "    .dataframe thead th {\n",
       "        text-align: right;\n",
       "    }\n",
       "</style>\n",
       "<table border=\"1\" class=\"dataframe\">\n",
       "  <thead>\n",
       "    <tr style=\"text-align: right;\">\n",
       "      <th></th>\n",
       "      <th>id</th>\n",
       "      <th>title</th>\n",
       "      <th>type</th>\n",
       "      <th>description</th>\n",
       "      <th>release_year</th>\n",
       "      <th>age_certification</th>\n",
       "      <th>runtime</th>\n",
       "      <th>seasons</th>\n",
       "      <th>imdb_id</th>\n",
       "      <th>imdb_score</th>\n",
       "      <th>imdb_votes</th>\n",
       "      <th>tmdb_popularity</th>\n",
       "      <th>tmdb_score</th>\n",
       "      <th>genre</th>\n",
       "      <th>production_country</th>\n",
       "    </tr>\n",
       "  </thead>\n",
       "  <tbody>\n",
       "    <tr>\n",
       "      <th>0</th>\n",
       "      <td>tm87233</td>\n",
       "      <td>It's a Wonderful Life</td>\n",
       "      <td>MOVIE</td>\n",
       "      <td>A holiday favourite for generations...  George...</td>\n",
       "      <td>1946</td>\n",
       "      <td>PG</td>\n",
       "      <td>130</td>\n",
       "      <td>0.0</td>\n",
       "      <td>tt0038650</td>\n",
       "      <td>8.6</td>\n",
       "      <td>467766.0</td>\n",
       "      <td>27.611</td>\n",
       "      <td>8.261</td>\n",
       "      <td>drama</td>\n",
       "      <td>US</td>\n",
       "    </tr>\n",
       "    <tr>\n",
       "      <th>1</th>\n",
       "      <td>tm143047</td>\n",
       "      <td>Duck Soup</td>\n",
       "      <td>MOVIE</td>\n",
       "      <td>Rufus T. Firefly is named president/dictator o...</td>\n",
       "      <td>1933</td>\n",
       "      <td>NaN</td>\n",
       "      <td>69</td>\n",
       "      <td>0.0</td>\n",
       "      <td>tt0023969</td>\n",
       "      <td>7.8</td>\n",
       "      <td>60933.0</td>\n",
       "      <td>9.013</td>\n",
       "      <td>7.357</td>\n",
       "      <td>comedy</td>\n",
       "      <td>US</td>\n",
       "    </tr>\n",
       "    <tr>\n",
       "      <th>2</th>\n",
       "      <td>tm83884</td>\n",
       "      <td>His Girl Friday</td>\n",
       "      <td>MOVIE</td>\n",
       "      <td>Hildy, the journalist former wife of newspaper...</td>\n",
       "      <td>1940</td>\n",
       "      <td>NaN</td>\n",
       "      <td>92</td>\n",
       "      <td>0.0</td>\n",
       "      <td>tt0032599</td>\n",
       "      <td>7.8</td>\n",
       "      <td>60244.0</td>\n",
       "      <td>14.759</td>\n",
       "      <td>7.433</td>\n",
       "      <td>drama</td>\n",
       "      <td>US</td>\n",
       "    </tr>\n",
       "    <tr>\n",
       "      <th>3</th>\n",
       "      <td>ts20945</td>\n",
       "      <td>The Three Stooges</td>\n",
       "      <td>SHOW</td>\n",
       "      <td>The Three Stooges were an American vaudeville ...</td>\n",
       "      <td>1934</td>\n",
       "      <td>TV-PG</td>\n",
       "      <td>19</td>\n",
       "      <td>26.0</td>\n",
       "      <td>tt0850645</td>\n",
       "      <td>8.5</td>\n",
       "      <td>1149.0</td>\n",
       "      <td>15.424</td>\n",
       "      <td>7.600</td>\n",
       "      <td>comedy</td>\n",
       "      <td>US</td>\n",
       "    </tr>\n",
       "    <tr>\n",
       "      <th>4</th>\n",
       "      <td>tm5012</td>\n",
       "      <td>Red River</td>\n",
       "      <td>MOVIE</td>\n",
       "      <td>Headstrong Thomas Dunson starts a thriving Tex...</td>\n",
       "      <td>1948</td>\n",
       "      <td>NaN</td>\n",
       "      <td>133</td>\n",
       "      <td>0.0</td>\n",
       "      <td>tt0040724</td>\n",
       "      <td>7.8</td>\n",
       "      <td>32210.0</td>\n",
       "      <td>12.400</td>\n",
       "      <td>7.400</td>\n",
       "      <td>western</td>\n",
       "      <td>US</td>\n",
       "    </tr>\n",
       "  </tbody>\n",
       "</table>\n",
       "</div>"
      ],
      "text/plain": [
       "         id                  title   type  \\\n",
       "0   tm87233  It's a Wonderful Life  MOVIE   \n",
       "1  tm143047              Duck Soup  MOVIE   \n",
       "2   tm83884        His Girl Friday  MOVIE   \n",
       "3   ts20945      The Three Stooges   SHOW   \n",
       "4    tm5012              Red River  MOVIE   \n",
       "\n",
       "                                         description  release_year  \\\n",
       "0  A holiday favourite for generations...  George...          1946   \n",
       "1  Rufus T. Firefly is named president/dictator o...          1933   \n",
       "2  Hildy, the journalist former wife of newspaper...          1940   \n",
       "3  The Three Stooges were an American vaudeville ...          1934   \n",
       "4  Headstrong Thomas Dunson starts a thriving Tex...          1948   \n",
       "\n",
       "  age_certification  runtime  seasons    imdb_id  imdb_score  imdb_votes  \\\n",
       "0                PG      130      0.0  tt0038650         8.6    467766.0   \n",
       "1               NaN       69      0.0  tt0023969         7.8     60933.0   \n",
       "2               NaN       92      0.0  tt0032599         7.8     60244.0   \n",
       "3             TV-PG       19     26.0  tt0850645         8.5      1149.0   \n",
       "4               NaN      133      0.0  tt0040724         7.8     32210.0   \n",
       "\n",
       "   tmdb_popularity  tmdb_score    genre production_country  \n",
       "0           27.611       8.261    drama                 US  \n",
       "1            9.013       7.357   comedy                 US  \n",
       "2           14.759       7.433    drama                 US  \n",
       "3           15.424       7.600   comedy                 US  \n",
       "4           12.400       7.400  western                 US  "
      ]
     },
     "execution_count": 18,
     "metadata": {},
     "output_type": "execute_result"
    }
   ],
   "source": [
    "titles.head()"
   ]
  },
  {
   "cell_type": "markdown",
   "metadata": {
    "id": "0JwQddjT0yhG"
   },
   "source": [
    "## Handling the rest of the null values"
   ]
  },
  {
   "cell_type": "markdown",
   "metadata": {
    "id": "paHSEgZ2uEY2"
   },
   "source": [
    "Let's see how many null values are left"
   ]
  },
  {
   "cell_type": "code",
   "execution_count": 19,
   "metadata": {
    "colab": {
     "base_uri": "https://localhost:8080/"
    },
    "id": "iwaj_kAuuP5p",
    "outputId": "fe5a45ad-22a2-41e7-c6aa-7661c500d174"
   },
   "outputs": [
    {
     "data": {
      "text/plain": [
       "id                        0\n",
       "title                     0\n",
       "type                      0\n",
       "description             184\n",
       "release_year              0\n",
       "age_certification     11969\n",
       "runtime                   0\n",
       "seasons                   0\n",
       "imdb_id                1948\n",
       "imdb_score             2554\n",
       "imdb_votes             2614\n",
       "tmdb_popularity         717\n",
       "tmdb_score             2985\n",
       "genre                   365\n",
       "production_country      422\n",
       "dtype: int64"
      ]
     },
     "execution_count": 19,
     "metadata": {},
     "output_type": "execute_result"
    }
   ],
   "source": [
    "titles.isna().sum()"
   ]
  },
  {
   "cell_type": "markdown",
   "metadata": {
    "id": "HF-W5fbggtPB"
   },
   "source": [
    "Now, let's drop the 'id', the 'imdb_id', and 'age_certification' columns."
   ]
  },
  {
   "cell_type": "code",
   "execution_count": 20,
   "metadata": {
    "id": "C8hfyHAYkqVt"
   },
   "outputs": [],
   "source": [
    "titles.drop(['id','imdb_id','age_certification'], axis=1,inplace=True)"
   ]
  },
  {
   "cell_type": "markdown",
   "metadata": {
    "id": "jXuxeZdvz0RU"
   },
   "source": [
    "Let's also get rid of some NaN values that are still left in our dataset."
   ]
  },
  {
   "cell_type": "code",
   "execution_count": 21,
   "metadata": {
    "id": "skNAbvObk45b"
   },
   "outputs": [],
   "source": [
    "titles.dropna(inplace=True)"
   ]
  },
  {
   "cell_type": "code",
   "execution_count": 22,
   "metadata": {
    "colab": {
     "base_uri": "https://localhost:8080/"
    },
    "id": "E2Lkh9a50jBY",
    "outputId": "bdee6302-2067-4147-b3e7-17b56e17e6b8"
   },
   "outputs": [
    {
     "name": "stdout",
     "output_type": "stream",
     "text": [
      "<class 'pandas.core.frame.DataFrame'>\n",
      "Int64Index: 18601 entries, 0 to 25248\n",
      "Data columns (total 12 columns):\n",
      " #   Column              Non-Null Count  Dtype  \n",
      "---  ------              --------------  -----  \n",
      " 0   title               18601 non-null  object \n",
      " 1   type                18601 non-null  object \n",
      " 2   description         18601 non-null  object \n",
      " 3   release_year        18601 non-null  int64  \n",
      " 4   runtime             18601 non-null  int64  \n",
      " 5   seasons             18601 non-null  float64\n",
      " 6   imdb_score          18601 non-null  float64\n",
      " 7   imdb_votes          18601 non-null  float64\n",
      " 8   tmdb_popularity     18601 non-null  float64\n",
      " 9   tmdb_score          18601 non-null  float64\n",
      " 10  genre               18601 non-null  object \n",
      " 11  production_country  18601 non-null  object \n",
      "dtypes: float64(5), int64(2), object(5)\n",
      "memory usage: 1.8+ MB\n"
     ]
    }
   ],
   "source": [
    "titles.info()"
   ]
  },
  {
   "cell_type": "markdown",
   "metadata": {},
   "source": [
    "We can see that we still have 18601 values remaining."
   ]
  },
  {
   "cell_type": "markdown",
   "metadata": {},
   "source": [
    "Now, with the clean data, we can create our Recommendation System."
   ]
  },
  {
   "cell_type": "code",
   "execution_count": 23,
   "metadata": {},
   "outputs": [],
   "source": [
    "#Saving the data for future use\n",
    "if not os.path.exists('data/clean'):\n",
    "            os.mkdir('data/clean')\n",
    "\n",
    "titles.to_csv('data/clean/title.csv')"
   ]
  },
  {
   "cell_type": "markdown",
   "metadata": {
    "id": "lLLSffER04eN"
   },
   "source": [
    "# Content Based Recommender\n",
    "\n"
   ]
  },
  {
   "cell_type": "markdown",
   "metadata": {},
   "source": [
    "## Plot description based Recommender\n",
    "\n"
   ]
  },
  {
   "cell_type": "markdown",
   "metadata": {},
   "source": [
    "In this kernel, we will build a recommendation system based on the description of titles. We will calculate pairwise similarity scores for all movies/tv shows based on their descriptions and recommend titles with similar scores."
   ]
  },
  {
   "cell_type": "code",
   "execution_count": 24,
   "metadata": {
    "colab": {
     "base_uri": "https://localhost:8080/"
    },
    "id": "E083dBMo1HZn",
    "outputId": "463eeb9d-b307-4122-f90e-4a60d837aaf9"
   },
   "outputs": [
    {
     "data": {
      "text/plain": [
       "0    A holiday favourite for generations...  George...\n",
       "1    Rufus T. Firefly is named president/dictator o...\n",
       "2    Hildy, the journalist former wife of newspaper...\n",
       "3    The Three Stooges were an American vaudeville ...\n",
       "4    Headstrong Thomas Dunson starts a thriving Tex...\n",
       "Name: description, dtype: object"
      ]
     },
     "execution_count": 24,
     "metadata": {},
     "output_type": "execute_result"
    }
   ],
   "source": [
    "titles['description'].head()"
   ]
  },
  {
   "cell_type": "markdown",
   "metadata": {},
   "source": [
    "## Separating the data in Movies and TV Shows"
   ]
  },
  {
   "cell_type": "markdown",
   "metadata": {},
   "source": [
    "I am separating the data in Movies and TV Shows, to create separate recommendation systems."
   ]
  },
  {
   "cell_type": "code",
   "execution_count": 25,
   "metadata": {},
   "outputs": [],
   "source": [
    "movies = titles[titles['type'] == 'MOVIE'].copy().reset_index()\n",
    "movies.drop(['index'], axis=1, inplace=True)\n",
    "\n",
    "shows = titles[titles['type'] == 'SHOW'].copy().reset_index()\n",
    "shows.drop(['index'], axis=1, inplace=True)"
   ]
  },
  {
   "cell_type": "code",
   "execution_count": 26,
   "metadata": {},
   "outputs": [
    {
     "data": {
      "text/html": [
       "<div>\n",
       "<style scoped>\n",
       "    .dataframe tbody tr th:only-of-type {\n",
       "        vertical-align: middle;\n",
       "    }\n",
       "\n",
       "    .dataframe tbody tr th {\n",
       "        vertical-align: top;\n",
       "    }\n",
       "\n",
       "    .dataframe thead th {\n",
       "        text-align: right;\n",
       "    }\n",
       "</style>\n",
       "<table border=\"1\" class=\"dataframe\">\n",
       "  <thead>\n",
       "    <tr style=\"text-align: right;\">\n",
       "      <th></th>\n",
       "      <th>title</th>\n",
       "      <th>type</th>\n",
       "      <th>description</th>\n",
       "      <th>release_year</th>\n",
       "      <th>runtime</th>\n",
       "      <th>seasons</th>\n",
       "      <th>imdb_score</th>\n",
       "      <th>imdb_votes</th>\n",
       "      <th>tmdb_popularity</th>\n",
       "      <th>tmdb_score</th>\n",
       "      <th>genre</th>\n",
       "      <th>production_country</th>\n",
       "    </tr>\n",
       "  </thead>\n",
       "  <tbody>\n",
       "    <tr>\n",
       "      <th>0</th>\n",
       "      <td>It's a Wonderful Life</td>\n",
       "      <td>MOVIE</td>\n",
       "      <td>A holiday favourite for generations...  George...</td>\n",
       "      <td>1946</td>\n",
       "      <td>130</td>\n",
       "      <td>0.0</td>\n",
       "      <td>8.6</td>\n",
       "      <td>467766.0</td>\n",
       "      <td>27.611</td>\n",
       "      <td>8.261</td>\n",
       "      <td>drama</td>\n",
       "      <td>US</td>\n",
       "    </tr>\n",
       "    <tr>\n",
       "      <th>1</th>\n",
       "      <td>Duck Soup</td>\n",
       "      <td>MOVIE</td>\n",
       "      <td>Rufus T. Firefly is named president/dictator o...</td>\n",
       "      <td>1933</td>\n",
       "      <td>69</td>\n",
       "      <td>0.0</td>\n",
       "      <td>7.8</td>\n",
       "      <td>60933.0</td>\n",
       "      <td>9.013</td>\n",
       "      <td>7.357</td>\n",
       "      <td>comedy</td>\n",
       "      <td>US</td>\n",
       "    </tr>\n",
       "    <tr>\n",
       "      <th>2</th>\n",
       "      <td>His Girl Friday</td>\n",
       "      <td>MOVIE</td>\n",
       "      <td>Hildy, the journalist former wife of newspaper...</td>\n",
       "      <td>1940</td>\n",
       "      <td>92</td>\n",
       "      <td>0.0</td>\n",
       "      <td>7.8</td>\n",
       "      <td>60244.0</td>\n",
       "      <td>14.759</td>\n",
       "      <td>7.433</td>\n",
       "      <td>drama</td>\n",
       "      <td>US</td>\n",
       "    </tr>\n",
       "    <tr>\n",
       "      <th>3</th>\n",
       "      <td>Red River</td>\n",
       "      <td>MOVIE</td>\n",
       "      <td>Headstrong Thomas Dunson starts a thriving Tex...</td>\n",
       "      <td>1948</td>\n",
       "      <td>133</td>\n",
       "      <td>0.0</td>\n",
       "      <td>7.8</td>\n",
       "      <td>32210.0</td>\n",
       "      <td>12.400</td>\n",
       "      <td>7.400</td>\n",
       "      <td>western</td>\n",
       "      <td>US</td>\n",
       "    </tr>\n",
       "    <tr>\n",
       "      <th>4</th>\n",
       "      <td>The Best Years of Our Lives</td>\n",
       "      <td>MOVIE</td>\n",
       "      <td>It's the hope that sustains the spirit of ever...</td>\n",
       "      <td>1947</td>\n",
       "      <td>171</td>\n",
       "      <td>0.0</td>\n",
       "      <td>8.1</td>\n",
       "      <td>66209.0</td>\n",
       "      <td>16.056</td>\n",
       "      <td>7.838</td>\n",
       "      <td>war</td>\n",
       "      <td>US</td>\n",
       "    </tr>\n",
       "  </tbody>\n",
       "</table>\n",
       "</div>"
      ],
      "text/plain": [
       "                         title   type  \\\n",
       "0        It's a Wonderful Life  MOVIE   \n",
       "1                    Duck Soup  MOVIE   \n",
       "2              His Girl Friday  MOVIE   \n",
       "3                    Red River  MOVIE   \n",
       "4  The Best Years of Our Lives  MOVIE   \n",
       "\n",
       "                                         description  release_year  runtime  \\\n",
       "0  A holiday favourite for generations...  George...          1946      130   \n",
       "1  Rufus T. Firefly is named president/dictator o...          1933       69   \n",
       "2  Hildy, the journalist former wife of newspaper...          1940       92   \n",
       "3  Headstrong Thomas Dunson starts a thriving Tex...          1948      133   \n",
       "4  It's the hope that sustains the spirit of ever...          1947      171   \n",
       "\n",
       "   seasons  imdb_score  imdb_votes  tmdb_popularity  tmdb_score    genre  \\\n",
       "0      0.0         8.6    467766.0           27.611       8.261    drama   \n",
       "1      0.0         7.8     60933.0            9.013       7.357   comedy   \n",
       "2      0.0         7.8     60244.0           14.759       7.433    drama   \n",
       "3      0.0         7.8     32210.0           12.400       7.400  western   \n",
       "4      0.0         8.1     66209.0           16.056       7.838      war   \n",
       "\n",
       "  production_country  \n",
       "0                 US  \n",
       "1                 US  \n",
       "2                 US  \n",
       "3                 US  \n",
       "4                 US  "
      ]
     },
     "execution_count": 26,
     "metadata": {},
     "output_type": "execute_result"
    }
   ],
   "source": [
    "movies.head()"
   ]
  },
  {
   "cell_type": "code",
   "execution_count": 27,
   "metadata": {},
   "outputs": [
    {
     "data": {
      "text/html": [
       "<div>\n",
       "<style scoped>\n",
       "    .dataframe tbody tr th:only-of-type {\n",
       "        vertical-align: middle;\n",
       "    }\n",
       "\n",
       "    .dataframe tbody tr th {\n",
       "        vertical-align: top;\n",
       "    }\n",
       "\n",
       "    .dataframe thead th {\n",
       "        text-align: right;\n",
       "    }\n",
       "</style>\n",
       "<table border=\"1\" class=\"dataframe\">\n",
       "  <thead>\n",
       "    <tr style=\"text-align: right;\">\n",
       "      <th></th>\n",
       "      <th>title</th>\n",
       "      <th>type</th>\n",
       "      <th>description</th>\n",
       "      <th>release_year</th>\n",
       "      <th>runtime</th>\n",
       "      <th>seasons</th>\n",
       "      <th>imdb_score</th>\n",
       "      <th>imdb_votes</th>\n",
       "      <th>tmdb_popularity</th>\n",
       "      <th>tmdb_score</th>\n",
       "      <th>genre</th>\n",
       "      <th>production_country</th>\n",
       "    </tr>\n",
       "  </thead>\n",
       "  <tbody>\n",
       "    <tr>\n",
       "      <th>0</th>\n",
       "      <td>The Three Stooges</td>\n",
       "      <td>SHOW</td>\n",
       "      <td>The Three Stooges were an American vaudeville ...</td>\n",
       "      <td>1934</td>\n",
       "      <td>19</td>\n",
       "      <td>26.0</td>\n",
       "      <td>8.5</td>\n",
       "      <td>1149.0</td>\n",
       "      <td>15.424</td>\n",
       "      <td>7.600</td>\n",
       "      <td>comedy</td>\n",
       "      <td>US</td>\n",
       "    </tr>\n",
       "    <tr>\n",
       "      <th>1</th>\n",
       "      <td>The Jack Benny Program</td>\n",
       "      <td>SHOW</td>\n",
       "      <td>Laugh along with funnyman Jack Benny as he bri...</td>\n",
       "      <td>1950</td>\n",
       "      <td>30</td>\n",
       "      <td>21.0</td>\n",
       "      <td>8.6</td>\n",
       "      <td>1529.0</td>\n",
       "      <td>9.681</td>\n",
       "      <td>7.500</td>\n",
       "      <td>comedy</td>\n",
       "      <td>US</td>\n",
       "    </tr>\n",
       "    <tr>\n",
       "      <th>2</th>\n",
       "      <td>What's My Line?</td>\n",
       "      <td>SHOW</td>\n",
       "      <td>Four panelists must determine guests' occupati...</td>\n",
       "      <td>1950</td>\n",
       "      <td>30</td>\n",
       "      <td>18.0</td>\n",
       "      <td>8.5</td>\n",
       "      <td>1658.0</td>\n",
       "      <td>45.113</td>\n",
       "      <td>7.200</td>\n",
       "      <td>reality</td>\n",
       "      <td>US</td>\n",
       "    </tr>\n",
       "    <tr>\n",
       "      <th>3</th>\n",
       "      <td>The Avengers</td>\n",
       "      <td>SHOW</td>\n",
       "      <td>The Avengers is a British television series cr...</td>\n",
       "      <td>1961</td>\n",
       "      <td>51</td>\n",
       "      <td>8.0</td>\n",
       "      <td>8.3</td>\n",
       "      <td>8195.0</td>\n",
       "      <td>42.586</td>\n",
       "      <td>7.853</td>\n",
       "      <td>scifi</td>\n",
       "      <td>GB</td>\n",
       "    </tr>\n",
       "    <tr>\n",
       "      <th>4</th>\n",
       "      <td>The Bob Newhart Show</td>\n",
       "      <td>SHOW</td>\n",
       "      <td>The Bob Newhart Show is an American situation ...</td>\n",
       "      <td>1972</td>\n",
       "      <td>29</td>\n",
       "      <td>6.0</td>\n",
       "      <td>8.1</td>\n",
       "      <td>6171.0</td>\n",
       "      <td>11.416</td>\n",
       "      <td>7.700</td>\n",
       "      <td>comedy</td>\n",
       "      <td>US</td>\n",
       "    </tr>\n",
       "  </tbody>\n",
       "</table>\n",
       "</div>"
      ],
      "text/plain": [
       "                    title  type  \\\n",
       "0       The Three Stooges  SHOW   \n",
       "1  The Jack Benny Program  SHOW   \n",
       "2         What's My Line?  SHOW   \n",
       "3            The Avengers  SHOW   \n",
       "4    The Bob Newhart Show  SHOW   \n",
       "\n",
       "                                         description  release_year  runtime  \\\n",
       "0  The Three Stooges were an American vaudeville ...          1934       19   \n",
       "1  Laugh along with funnyman Jack Benny as he bri...          1950       30   \n",
       "2  Four panelists must determine guests' occupati...          1950       30   \n",
       "3  The Avengers is a British television series cr...          1961       51   \n",
       "4  The Bob Newhart Show is an American situation ...          1972       29   \n",
       "\n",
       "   seasons  imdb_score  imdb_votes  tmdb_popularity  tmdb_score    genre  \\\n",
       "0     26.0         8.5      1149.0           15.424       7.600   comedy   \n",
       "1     21.0         8.6      1529.0            9.681       7.500   comedy   \n",
       "2     18.0         8.5      1658.0           45.113       7.200  reality   \n",
       "3      8.0         8.3      8195.0           42.586       7.853    scifi   \n",
       "4      6.0         8.1      6171.0           11.416       7.700   comedy   \n",
       "\n",
       "  production_country  \n",
       "0                 US  \n",
       "1                 US  \n",
       "2                 US  \n",
       "3                 GB  \n",
       "4                 US  "
      ]
     },
     "execution_count": 27,
     "metadata": {},
     "output_type": "execute_result"
    }
   ],
   "source": [
    "shows.head()"
   ]
  },
  {
   "cell_type": "markdown",
   "metadata": {
    "id": "x2rgs5eE1sVT"
   },
   "source": [
    "Now we'll compute Term Frequency-Inverse Document Frequency ([TF-IDF](https://en.wikipedia.org/wiki/Tf%E2%80%93idf)) vectors for each description."
   ]
  },
  {
   "cell_type": "code",
   "execution_count": 28,
   "metadata": {
    "colab": {
     "base_uri": "https://localhost:8080/"
    },
    "id": "bI-f3l6Y4zox",
    "outputId": "66706a33-4fa0-4569-ffee-1214fe6e0ae7"
   },
   "outputs": [
    {
     "name": "stdout",
     "output_type": "stream",
     "text": [
      "Shape for Movies: (14027, 35301)\n",
      "Shape for Shows: (4574, 19442)\n"
     ]
    }
   ],
   "source": [
    "#Define a TF-IDF Vectorizer Object. \n",
    "#This remove all english stop words such as 'the', 'a'\n",
    "tfidf = TfidfVectorizer(stop_words='english')\n",
    "\n",
    "#Construct the required TF-IDF matrix by fitting and transforming the data\n",
    "tfidf_matrix_movies = tfidf.fit_transform(movies['description'])\n",
    "tfidf_matrix_shows = tfidf.fit_transform(shows['description'])\n",
    "\n",
    "#Output the shape of tfidf_matrix\n",
    "print(f'Shape for Movies: {tfidf_matrix_movies.shape}')\n",
    "print(f'Shape for Shows: {tfidf_matrix_shows.shape}')"
   ]
  },
  {
   "cell_type": "markdown",
   "metadata": {
    "id": "vs1MMeK-6Xs5"
   },
   "source": [
    "We see that over **35k** different words were used to describe the 14027 titles in our movies dataset, and **19k** different words to describe the 4574 titles in our shows dataset.\n",
    "\n",
    "Now, we need to calculate the similarity score. We will be using the [cosine similarity](https://en.wikipedia.org/wiki/Cosine_similarity) to calculate a numeric quantity that denotes the similarity between two movies/shows. "
   ]
  },
  {
   "cell_type": "code",
   "execution_count": 29,
   "metadata": {
    "id": "-mwu8UO969_M"
   },
   "outputs": [],
   "source": [
    "# Compute the cosine similarity matrix\n",
    "cosine_sim_movies = linear_kernel(tfidf_matrix_movies, tfidf_matrix_movies)\n",
    "cosine_sim_shows = linear_kernel(tfidf_matrix_shows, tfidf_matrix_shows)"
   ]
  },
  {
   "cell_type": "markdown",
   "metadata": {
    "id": "pKyo09L87icB"
   },
   "source": [
    "Now we create a way to identify the index of a movie/show in our data, given its title."
   ]
  },
  {
   "cell_type": "code",
   "execution_count": 30,
   "metadata": {
    "id": "8ezXBF6E7ytr"
   },
   "outputs": [],
   "source": [
    "indices_movies = pd.Series(movies.index, index=movies['title'])\n",
    "indices_shows = pd.Series(shows.index, index=shows['title'])"
   ]
  },
  {
   "cell_type": "code",
   "execution_count": 31,
   "metadata": {},
   "outputs": [],
   "source": [
    "def test_title(title,indices):\n",
    "    \"\"\"\n",
    "    Function that gets the 'index searcher' and searches\n",
    "    the user's title index.\n",
    "    \"\"\"\n",
    "    \n",
    "    try:\n",
    "        index = indices[title]\n",
    "    except:\n",
    "        print(\"\\n  Title not found\")\n",
    "        return\n",
    "\n",
    "    if isinstance(index, np.int64):\n",
    "        return index\n",
    "    \n",
    "    else:\n",
    "        rt = 0\n",
    "        print(\"Select a title: \")\n",
    "        for i in range(len(index)):\n",
    "            print(f\"{i} - {movies['title'].iloc[index[i]]}\", end=' ')\n",
    "            print(f\"({movies['release_year'].iloc[index[i]]})\")\n",
    "        rt = int(input())\n",
    "        return index[rt]"
   ]
  },
  {
   "cell_type": "markdown",
   "metadata": {},
   "source": [
    "Now, we define functions that accept a movie/show title as input and produce a list of the 10 most similar titles."
   ]
  },
  {
   "cell_type": "code",
   "execution_count": 32,
   "metadata": {
    "id": "RiVnsvRL8Oqh"
   },
   "outputs": [],
   "source": [
    "\n",
    "def get_recommendations_movie(title, cosine_sim=cosine_sim_movies):\n",
    "    \"\"\"\n",
    "    A function that takes a movie title as input and prints on the screen\n",
    "    the 10 most similar movies based on the input description.\n",
    "    \"\"\"    \n",
    "    \n",
    "    title = test_title(title, indices_movies)\n",
    "    idx = indices_movies[title]\n",
    "      \n",
    "    print(f\"Title: {movies['title'].iloc[idx]} |  Year: {movies['release_year'].iloc[idx]}\")\n",
    "\n",
    "    print('**' * 40)\n",
    "\n",
    "    # Get the pairwsie similarity scores of all movies with that movie\n",
    "    sim_scores = list(enumerate(cosine_sim[idx]))\n",
    "\n",
    "    # Sort the movies based on the similarity scores\n",
    "    sim_scores = sorted(sim_scores, key=lambda x: x[1], reverse=True)\n",
    "\n",
    "    # Get the scores of the 10 most similar movies\n",
    "    sim_scores = sim_scores[1:11]\n",
    "\n",
    "    # Get the movie indices\n",
    "    movie_indices = [i[0] for i in sim_scores]\n",
    "\n",
    "    print(movies[['title', 'release_year']].iloc[movie_indices])\n",
    "\n",
    "    print('**' * 40)"
   ]
  },
  {
   "cell_type": "code",
   "execution_count": 33,
   "metadata": {
    "id": "pL244FxJjydJ"
   },
   "outputs": [],
   "source": [
    "def get_recommendations_show(title, cosine_sim=cosine_sim_shows):\n",
    "    \"\"\"\n",
    "    A function that takes a show title as input and prints on the screen\n",
    "    the 10 most similar shows based on the input description.\n",
    "    \"\"\"\n",
    "    \n",
    "    title = test_title(title, indices_shows)\n",
    "    idx = indices_shows[title]\n",
    "\n",
    "    print(f\"Title: {shows['title'].iloc[idx]} | Year: {shows['release_year'].iloc[idx]}\")\n",
    "\n",
    "    print('**' * 40)\n",
    "\n",
    "    # Get the pairwsie similarity scores of all shows with that show\n",
    "    sim_scores = list(enumerate(cosine_sim[idx]))\n",
    "\n",
    "    # Sort the shows based on the similarity scores\n",
    "    sim_scores = sorted(sim_scores, key=lambda x: x[1], reverse=True)\n",
    "\n",
    "    # Get the scores of the 10 most similar shows\n",
    "    sim_scores = sim_scores[1:11]\n",
    "\n",
    "    # Get the show indices\n",
    "    show_indices = [i[0] for i in sim_scores]\n",
    "\n",
    "    print(shows[['title', 'release_year']].iloc[show_indices])\n",
    "\n",
    "    print('**' * 40)"
   ]
  },
  {
   "cell_type": "code",
   "execution_count": 34,
   "metadata": {
    "colab": {
     "base_uri": "https://localhost:8080/"
    },
    "id": "177NO4hZ8y2Q",
    "outputId": "b27a38ce-fbb4-4cf4-dde8-54bf77497f61"
   },
   "outputs": [
    {
     "name": "stdout",
     "output_type": "stream",
     "text": [
      "Title: Rocky |  Year: 1976\n",
      "********************************************************************************\n",
      "                        title  release_year\n",
      "3726                    Creed          2015\n",
      "1383                 Rocky IV          1985\n",
      "771                  Rocky II          1979\n",
      "2023             Rocky Balboa          2006\n",
      "1391                  Rocky V          1990\n",
      "1386                Rocky III          1982\n",
      "384          Broadway Limited          1941\n",
      "6411         K.G.F: Chapter 2          2022\n",
      "1226      The Joe Louis Story          1953\n",
      "5029  Hello Guru Prema Kosame          2018\n",
      "********************************************************************************\n"
     ]
    }
   ],
   "source": [
    "get_recommendations_movie('Rocky')"
   ]
  },
  {
   "cell_type": "code",
   "execution_count": 35,
   "metadata": {
    "colab": {
     "base_uri": "https://localhost:8080/"
    },
    "id": "GEAwBv5LcRDc",
    "outputId": "188ef718-18b8-46ff-e0ea-115e3029ad21",
    "scrolled": true
   },
   "outputs": [
    {
     "name": "stdout",
     "output_type": "stream",
     "text": [
      "Title: Narcos | Year: 2015\n",
      "********************************************************************************\n",
      "                                    title  release_year\n",
      "3130                           Seis Manos          2019\n",
      "3974           The Snitch Cartel: Origins          2021\n",
      "2036                           It's a Sin          2021\n",
      "3133      How to Sell Drugs Online (Fast)          2019\n",
      "3736  Cocaine Cowboys: The Kings of Miami          2021\n",
      "1134                               Echo 3          2022\n",
      "538                   Love Me If You Dare          2015\n",
      "2576                          On My Block          2018\n",
      "3232                    Playing with Fire          2019\n",
      "2217                          El Escamoso          2001\n",
      "********************************************************************************\n"
     ]
    }
   ],
   "source": [
    "get_recommendations_show('Narcos')"
   ]
  }
 ],
 "metadata": {
  "colab": {
   "collapsed_sections": [
    "A8gYLwErhyfn",
    "nOH5hn_OpLV6",
    "YWt493hTpe6q",
    "mizvsD9dpnQX"
   ],
   "provenance": []
  },
  "kernelspec": {
   "display_name": "Python 3 (ipykernel)",
   "language": "python",
   "name": "python3"
  },
  "language_info": {
   "codemirror_mode": {
    "name": "ipython",
    "version": 3
   },
   "file_extension": ".py",
   "mimetype": "text/x-python",
   "name": "python",
   "nbconvert_exporter": "python",
   "pygments_lexer": "ipython3",
   "version": "3.9.13"
  }
 },
 "nbformat": 4,
 "nbformat_minor": 1
}
