{
 "cells": [
  {
   "cell_type": "markdown",
   "metadata": {
    "id": "A8gYLwErhyfn"
   },
   "source": [
    "# A Simple Content-Based Recommender System\n",
    "\n",
    "\n"
   ]
  },
  {
   "cell_type": "markdown",
   "metadata": {
    "id": "LkyGfcEZi5Bo"
   },
   "source": [
    "# Data and Libary imports\n"
   ]
  },
  {
   "cell_type": "code",
   "execution_count": null,
   "metadata": {
    "id": "Qwk5-th0fiuP"
   },
   "outputs": [],
   "source": [
    "import os\n",
    "\n",
    "import pandas as pd\n",
    "import numpy as np\n",
    "\n",
    "from sklearn.feature_extraction.text import TfidfVectorizer\n",
    "from sklearn.metrics.pairwise import linear_kernel"
   ]
  },
  {
   "cell_type": "markdown",
   "metadata": {
    "id": "D-EuduSVjSMN"
   },
   "source": [
    "## Titles imports"
   ]
  },
  {
   "cell_type": "code",
   "execution_count": null,
   "metadata": {
    "id": "S6JGS3wmgnpv"
   },
   "outputs": [],
   "source": [
    "amazon_titles = pd.read_csv(\"data/amazon/titles.csv\")\n",
    "appletv_titles = pd.read_csv(\"data/appletv/titles.csv\")\n",
    "disney_titles = pd.read_csv(\"data/disney/titles.csv\")\n",
    "hbo_titles = pd.read_csv(\"data/hbo/titles.csv\")\n",
    "netflix_titles = pd.read_csv(\"data/netflix/titles.csv\")\n",
    "paramount_titles = pd.read_csv(\"data/paramount/titles.csv\")"
   ]
  },
  {
   "cell_type": "markdown",
   "metadata": {
    "id": "tMc49beLkaVS"
   },
   "source": [
    "## Concatenation"
   ]
  },
  {
   "cell_type": "code",
   "execution_count": null,
   "metadata": {
    "id": "UmGTN3QckP0E"
   },
   "outputs": [],
   "source": [
    "titles = pd.concat([amazon_titles, appletv_titles, disney_titles, hbo_titles, netflix_titles, paramount_titles], axis = 0).reset_index()\n",
    "titles.drop(['index'], axis=1, inplace=True)"
   ]
  },
  {
   "cell_type": "code",
   "execution_count": null,
   "metadata": {
    "colab": {
     "base_uri": "https://localhost:8080/",
     "height": 1000
    },
    "id": "xEmsiDHQI2TK",
    "outputId": "27673ad4-8605-4cf8-a1b5-81d742bd3ad6"
   },
   "outputs": [],
   "source": [
    "titles[titles.duplicated() == True].head(5)"
   ]
  },
  {
   "cell_type": "code",
   "execution_count": null,
   "metadata": {
    "id": "T5eE6yv-k_k9"
   },
   "outputs": [],
   "source": [
    "titles.drop_duplicates(inplace=True)"
   ]
  },
  {
   "cell_type": "code",
   "execution_count": null,
   "metadata": {
    "colab": {
     "base_uri": "https://localhost:8080/",
     "height": 548
    },
    "id": "N_DS8fPfoZ6-",
    "outputId": "5d5a8256-0794-4cb6-f359-7584a6ffe2d1"
   },
   "outputs": [],
   "source": [
    "titles.head()"
   ]
  },
  {
   "cell_type": "markdown",
   "metadata": {
    "id": "xNV00Z-bpDp5"
   },
   "source": [
    "# Cleaning the data"
   ]
  },
  {
   "cell_type": "markdown",
   "metadata": {
    "id": "nOH5hn_OpLV6"
   },
   "source": [
    "## Seeing how many null values"
   ]
  },
  {
   "cell_type": "markdown",
   "metadata": {
    "id": "r3xlQTjag_XL"
   },
   "source": [
    "First, let's see how many non-null values we have for each column"
   ]
  },
  {
   "cell_type": "code",
   "execution_count": null,
   "metadata": {
    "colab": {
     "base_uri": "https://localhost:8080/"
    },
    "id": "L15J6veFpOfz",
    "outputId": "ae3852bf-b5de-46ee-98ce-7f088293e6c3"
   },
   "outputs": [],
   "source": [
    "titles.info()"
   ]
  },
  {
   "cell_type": "markdown",
   "metadata": {
    "id": "-2XWysc3pRWO"
   },
   "source": [
    "We have some gaps in each column, let's see how many null values are for each column"
   ]
  },
  {
   "cell_type": "code",
   "execution_count": null,
   "metadata": {
    "colab": {
     "base_uri": "https://localhost:8080/"
    },
    "id": "JmVZ_aUMuk_g",
    "outputId": "fffdd451-53c7-4d16-c64d-5291637b55cc"
   },
   "outputs": [],
   "source": [
    "titles.isna().sum()"
   ]
  },
  {
   "cell_type": "markdown",
   "metadata": {
    "id": "YWt493hTpe6q"
   },
   "source": [
    "## Handling the 'seasons' column"
   ]
  },
  {
   "cell_type": "markdown",
   "metadata": {
    "id": "2ML-ib_uk8TS"
   },
   "source": [
    "Now, we are going to handle the 'seasons' column. In the first view, we can say that all the null values are from the 'MOVIE' types, let's see if this is true."
   ]
  },
  {
   "cell_type": "code",
   "execution_count": null,
   "metadata": {
    "colab": {
     "base_uri": "https://localhost:8080/"
    },
    "id": "UnxIfT45muew",
    "outputId": "94bb64b5-f121-4e3c-fe40-c3ed82a40e2d"
   },
   "outputs": [],
   "source": [
    "len(titles.loc[(titles['seasons'].isna()) & (titles['type'] == 'MOVIE')]) == titles.seasons.isna().sum()"
   ]
  },
  {
   "cell_type": "markdown",
   "metadata": {
    "id": "9uvvANSWoVQ8"
   },
   "source": [
    "So, all the null values from 'season' is from movies. Let's change the null values to 0."
   ]
  },
  {
   "cell_type": "code",
   "execution_count": null,
   "metadata": {
    "id": "TzjgW3rGokHz"
   },
   "outputs": [],
   "source": [
    "titles['seasons'].fillna(0, inplace=True)"
   ]
  },
  {
   "cell_type": "code",
   "execution_count": null,
   "metadata": {
    "colab": {
     "base_uri": "https://localhost:8080/",
     "height": 0
    },
    "id": "AQC4i_npo1-Q",
    "outputId": "4ae45d46-8af8-4c6a-8889-50de452ae0aa"
   },
   "outputs": [],
   "source": [
    "titles.head()"
   ]
  },
  {
   "cell_type": "markdown",
   "metadata": {
    "id": "mizvsD9dpnQX"
   },
   "source": [
    "## Handling the 'genres' and 'production_countries' columns"
   ]
  },
  {
   "cell_type": "markdown",
   "metadata": {
    "id": "A-HerLAdp19Z"
   },
   "source": [
    "These two columns are formed by list values, so we need to handle these values to be a single value."
   ]
  },
  {
   "cell_type": "code",
   "execution_count": null,
   "metadata": {
    "colab": {
     "base_uri": "https://localhost:8080/"
    },
    "id": "YFX_NxIqqTkx",
    "outputId": "da4e874f-3c30-4fd4-a3d7-a7c490159e9f"
   },
   "outputs": [],
   "source": [
    "# For genres\n",
    "titles['genres'] = titles['genres'].str.replace(r'[','').str.replace(r\"'\",'').str.replace(r']','')\n",
    "titles['genre'] = titles['genres'].str.split(',').str[0]\n",
    "\n",
    "# For countries\n",
    "titles['production_countries'] = titles['production_countries'].str.replace(r\"[\", '').str.replace(r\"'\", '').str.replace(r\"]\", '')\n",
    "titles['production_countrie'] = titles['production_countries'].str.split(',').str[0]\n"
   ]
  },
  {
   "cell_type": "code",
   "execution_count": null,
   "metadata": {
    "id": "0keKhePKtrgr"
   },
   "outputs": [],
   "source": [
    "titles.drop(['genres', 'production_countries'], axis=1, inplace=True)"
   ]
  },
  {
   "cell_type": "code",
   "execution_count": null,
   "metadata": {
    "colab": {
     "base_uri": "https://localhost:8080/",
     "height": 0
    },
    "id": "anvSCXZxq78M",
    "outputId": "d6a732f7-e342-4bad-c08d-1148e7dca3f8"
   },
   "outputs": [],
   "source": [
    "titles.head()"
   ]
  },
  {
   "cell_type": "code",
   "execution_count": null,
   "metadata": {
    "colab": {
     "base_uri": "https://localhost:8080/"
    },
    "id": "OuRxFeKKujmL",
    "outputId": "2060f7bd-c6ff-4f3f-c46a-6583675a73b4"
   },
   "outputs": [],
   "source": [
    "titles['genre'].unique()"
   ]
  },
  {
   "cell_type": "code",
   "execution_count": null,
   "metadata": {
    "colab": {
     "base_uri": "https://localhost:8080/"
    },
    "id": "nWk9saQbvERL",
    "outputId": "c1c31035-64f4-4ada-d3aa-959dcdc9df5e"
   },
   "outputs": [],
   "source": [
    "titles['production_countrie'].unique()"
   ]
  },
  {
   "cell_type": "markdown",
   "metadata": {
    "id": "KsKdDniVvHgh"
   },
   "source": [
    "We can see that in both columns we have an empty value. Let's fill these values with NaN, in order to make it easier to deal with in the future."
   ]
  },
  {
   "cell_type": "code",
   "execution_count": null,
   "metadata": {
    "id": "BbkgH4-4vXMB"
   },
   "outputs": [],
   "source": [
    "titles['genre'] = titles['genre'].replace('', np.nan)\n",
    "titles['production_countrie'] = titles['production_countrie'].replace('',np.nan)"
   ]
  },
  {
   "cell_type": "markdown",
   "metadata": {
    "id": "0JwQddjT0yhG"
   },
   "source": [
    "## Handling the rest of the null values"
   ]
  },
  {
   "cell_type": "markdown",
   "metadata": {
    "id": "paHSEgZ2uEY2"
   },
   "source": [
    "Let's see how many null values are left"
   ]
  },
  {
   "cell_type": "code",
   "execution_count": null,
   "metadata": {
    "colab": {
     "base_uri": "https://localhost:8080/"
    },
    "id": "iwaj_kAuuP5p",
    "outputId": "fe5a45ad-22a2-41e7-c6aa-7661c500d174"
   },
   "outputs": [],
   "source": [
    "titles.isna().sum()"
   ]
  },
  {
   "cell_type": "markdown",
   "metadata": {
    "id": "HF-W5fbggtPB"
   },
   "source": [
    "Now, let's drop the 'id' and the 'imdb_id' and 'age_certification' columns."
   ]
  },
  {
   "cell_type": "code",
   "execution_count": null,
   "metadata": {
    "id": "C8hfyHAYkqVt"
   },
   "outputs": [],
   "source": [
    "titles.drop(['id','imdb_id','age_certification'], axis=1,inplace=True)"
   ]
  },
  {
   "cell_type": "markdown",
   "metadata": {
    "id": "jXuxeZdvz0RU"
   },
   "source": [
    "Let's get rid of some NaN value that are still left in our dataset."
   ]
  },
  {
   "cell_type": "code",
   "execution_count": null,
   "metadata": {
    "id": "skNAbvObk45b"
   },
   "outputs": [],
   "source": [
    "titles.dropna(inplace=True)"
   ]
  },
  {
   "cell_type": "code",
   "execution_count": null,
   "metadata": {
    "colab": {
     "base_uri": "https://localhost:8080/"
    },
    "id": "E2Lkh9a50jBY",
    "outputId": "bdee6302-2067-4147-b3e7-17b56e17e6b8"
   },
   "outputs": [],
   "source": [
    "titles.info()"
   ]
  },
  {
   "cell_type": "markdown",
   "metadata": {},
   "source": [
    "We can see that we still have 18601 values remaining."
   ]
  },
  {
   "cell_type": "code",
   "execution_count": null,
   "metadata": {},
   "outputs": [],
   "source": [
    "#Saving the data for future use\n",
    "if not os.path.exists('data/clean'):\n",
    "            os.mkdir('data/clean')\n",
    "\n",
    "titles.to_csv('data/clean/title.csv')"
   ]
  },
  {
   "cell_type": "markdown",
   "metadata": {
    "id": "lLLSffER04eN"
   },
   "source": [
    "# Content Based Recommender\n",
    "\n"
   ]
  },
  {
   "cell_type": "markdown",
   "metadata": {},
   "source": [
    "## Plot description based Recommender\n",
    "\n"
   ]
  },
  {
   "cell_type": "markdown",
   "metadata": {},
   "source": [
    "We will compute pairwise similarity scores for all movies/shows based on their plot descriptions and recommend movies based on that similarity score. \n",
    "\n",
    "The plot description is given in the 'description' feature of our dataset. Let's take a look at the data."
   ]
  },
  {
   "cell_type": "code",
   "execution_count": null,
   "metadata": {
    "colab": {
     "base_uri": "https://localhost:8080/"
    },
    "id": "E083dBMo1HZn",
    "outputId": "463eeb9d-b307-4122-f90e-4a60d837aaf9"
   },
   "outputs": [],
   "source": [
    "titles['description'].head()"
   ]
  },
  {
   "cell_type": "markdown",
   "metadata": {},
   "source": [
    "## Separating the data in Movies and TV Shows"
   ]
  },
  {
   "cell_type": "markdown",
   "metadata": {},
   "source": [
    "I am separating the data in Movies and TV Shows, to create separate recommendation systems."
   ]
  },
  {
   "cell_type": "code",
   "execution_count": null,
   "metadata": {},
   "outputs": [],
   "source": [
    "movies = titles[titles['type'] == 'MOVIE'].copy().reset_index()\n",
    "movies.drop(['index'], axis=1, inplace=True)\n",
    "\n",
    "shows = titles[titles['type'] == 'SHOW'].copy().reset_index()\n",
    "shows.drop(['index'], axis=1, inplace=True)"
   ]
  },
  {
   "cell_type": "code",
   "execution_count": null,
   "metadata": {},
   "outputs": [],
   "source": [
    "movies.head()"
   ]
  },
  {
   "cell_type": "code",
   "execution_count": null,
   "metadata": {},
   "outputs": [],
   "source": [
    "shows.head()"
   ]
  },
  {
   "cell_type": "markdown",
   "metadata": {
    "id": "x2rgs5eE1sVT"
   },
   "source": [
    "Now we'll compute Term Frequency-Inverse Document Frequency (TF-IDF) vectors for each description."
   ]
  },
  {
   "cell_type": "code",
   "execution_count": null,
   "metadata": {
    "colab": {
     "base_uri": "https://localhost:8080/"
    },
    "id": "bI-f3l6Y4zox",
    "outputId": "66706a33-4fa0-4569-ffee-1214fe6e0ae7"
   },
   "outputs": [],
   "source": [
    "#Define a TF-IDF Vectorizer Object. \n",
    "#This remove all english stop words such as 'the', 'a'\n",
    "tfidf = TfidfVectorizer(stop_words='english')\n",
    "\n",
    "#Construct the required TF-IDF matrix by fitting and transforming the data\n",
    "tfidf_matrix_movies = tfidf.fit_transform(movies['description'])\n",
    "tfidf_matrix_shows = tfidf.fit_transform(shows['description'])\n",
    "\n",
    "#Output the shape of tfidf_matrix\n",
    "print(f'Shape for Movies: {tfidf_matrix_movies.shape}')\n",
    "print(f'Shape for Shows: {tfidf_matrix_shows.shape}')"
   ]
  },
  {
   "cell_type": "markdown",
   "metadata": {
    "id": "vs1MMeK-6Xs5"
   },
   "source": [
    "We see that over **35k** different words were used to describe the 14027 titles in our movies dataset, and **19k** different words to describe the 4574 titles in our shows dataset.\n",
    "\n",
    "Now, we need to calculate the similarity score. We will be using the cosine similarity to calculate a numeric quantity that denotes the similarity between two movies. We use the cosine similarity score since it is independent of magnitude and is relatively easy and fast to calculate"
   ]
  },
  {
   "cell_type": "code",
   "execution_count": null,
   "metadata": {
    "id": "-mwu8UO969_M"
   },
   "outputs": [],
   "source": [
    "# Compute the cosine similarity matrix\n",
    "cosine_sim_movies = linear_kernel(tfidf_matrix_movies, tfidf_matrix_movies)\n",
    "cosine_sim_shows = linear_kernel(tfidf_matrix_shows, tfidf_matrix_shows)"
   ]
  },
  {
   "cell_type": "markdown",
   "metadata": {
    "id": "pKyo09L87icB"
   },
   "source": [
    "Now, we need a mechanism to identify the index of a movie/show in our metadata DataFrame, given its title."
   ]
  },
  {
   "cell_type": "code",
   "execution_count": null,
   "metadata": {
    "id": "8ezXBF6E7ytr"
   },
   "outputs": [],
   "source": [
    "indices_movies = pd.Series(movies.index, index=movies['title'])\n",
    "indices_shows = pd.Series(shows.index, index=shows['title'])"
   ]
  },
  {
   "cell_type": "markdown",
   "metadata": {
    "id": "g_ufOLHs77Ro"
   },
   "source": [
    "Now, let's define a function that takes in a movie title as an input and outputs a list of the 10 most similar movies."
   ]
  },
  {
   "cell_type": "code",
   "execution_count": null,
   "metadata": {
    "id": "RiVnsvRL8Oqh"
   },
   "outputs": [],
   "source": [
    "\n",
    "def get_recommendations_movie(title, cosine_sim=cosine_sim_movies):\n",
    "    \"\"\"\n",
    "    A function that takes a movie title as input and prints on the screen\n",
    "    the 10 most similar movies based on the input description.\n",
    "    \"\"\"    \n",
    "\n",
    "    idx = indices_movies[title]\n",
    "      \n",
    "    print(f\"Title: {movies['title'].loc[idx]} |  Year: {movies['release_year'].loc[idx]}\")\n",
    "\n",
    "    print('**' * 40)\n",
    "\n",
    "    # Get the pairwsie similarity scores of all movies with that movie\n",
    "    sim_scores = list(enumerate(cosine_sim[idx]))\n",
    "\n",
    "    # Sort the movies based on the similarity scores\n",
    "    sim_scores = sorted(sim_scores, key=lambda x: x[1], reverse=True)\n",
    "\n",
    "    # Get the scores of the 10 most similar movies\n",
    "    sim_scores = sim_scores[1:11]\n",
    "\n",
    "    # Get the movie indices\n",
    "    movie_indices = [i[0] for i in sim_scores]\n",
    "\n",
    "    print(movies[['title', 'release_year']].iloc[movie_indices])\n",
    "\n",
    "    print('**' * 40)"
   ]
  },
  {
   "cell_type": "code",
   "execution_count": null,
   "metadata": {
    "colab": {
     "base_uri": "https://localhost:8080/"
    },
    "id": "177NO4hZ8y2Q",
    "outputId": "b27a38ce-fbb4-4cf4-dde8-54bf77497f61"
   },
   "outputs": [],
   "source": [
    "get_recommendations_movie('Rocky')"
   ]
  },
  {
   "cell_type": "code",
   "execution_count": null,
   "metadata": {
    "id": "pL244FxJjydJ"
   },
   "outputs": [],
   "source": [
    "def get_recommendations_show(title, cosine_sim=cosine_sim_shows):\n",
    "    \"\"\"\n",
    "    A function that takes a show title as input and prints on the screen\n",
    "    the 10 most similar shows based on the input description.\n",
    "    \"\"\"\n",
    "\n",
    "    idx = indices_shows[title]\n",
    "\n",
    "    print(f\"Title: {shows['title'].loc[idx]} | Year: {shows['release_year'].loc[idx]}\")\n",
    "\n",
    "    print('**' * 40)\n",
    "\n",
    "    # Get the pairwsie similarity scores of all shows with that show\n",
    "    sim_scores = list(enumerate(cosine_sim[idx]))\n",
    "\n",
    "    # Sort the shows based on the similarity scores\n",
    "    sim_scores = sorted(sim_scores, key=lambda x: x[1], reverse=True)\n",
    "\n",
    "    # Get the scores of the 10 most similar shows\n",
    "    sim_scores = sim_scores[1:11]\n",
    "\n",
    "    # Get the show indices\n",
    "    show_indices = [i[0] for i in sim_scores]\n",
    "\n",
    "    print(shows[['title', 'release_year']].iloc[show_indices])\n",
    "\n",
    "    print('**' * 40)"
   ]
  },
  {
   "cell_type": "code",
   "execution_count": null,
   "metadata": {
    "colab": {
     "base_uri": "https://localhost:8080/"
    },
    "id": "GEAwBv5LcRDc",
    "outputId": "188ef718-18b8-46ff-e0ea-115e3029ad21",
    "scrolled": true
   },
   "outputs": [],
   "source": [
    "get_recommendations_show('The Silent Sea')"
   ]
  }
 ],
 "metadata": {
  "colab": {
   "collapsed_sections": [
    "A8gYLwErhyfn",
    "nOH5hn_OpLV6",
    "YWt493hTpe6q",
    "mizvsD9dpnQX"
   ],
   "provenance": []
  },
  "kernelspec": {
   "display_name": "Python 3 (ipykernel)",
   "language": "python",
   "name": "python3"
  },
  "language_info": {
   "codemirror_mode": {
    "name": "ipython",
    "version": 3
   },
   "file_extension": ".py",
   "mimetype": "text/x-python",
   "name": "python",
   "nbconvert_exporter": "python",
   "pygments_lexer": "ipython3",
   "version": "3.9.13"
  }
 },
 "nbformat": 4,
 "nbformat_minor": 1
}
