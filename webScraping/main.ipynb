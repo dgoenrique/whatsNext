{
 "cells": [
  {
   "cell_type": "markdown",
   "id": "35f1586e",
   "metadata": {},
   "source": [
    "# Libary imports"
   ]
  },
  {
   "cell_type": "code",
   "execution_count": 32,
   "id": "75c3c71c",
   "metadata": {
    "id": "75c3c71c"
   },
   "outputs": [],
   "source": [
    "import os\n",
    "import json\n",
    "import requests\n",
    "import pandas as pd\n",
    "import numpy as np\n",
    "from tqdm.notebook import tqdm\n",
    "import matplotlib.pyplot as plt\n",
    "import missingno as msno\n",
    "%matplotlib inline"
   ]
  },
  {
   "cell_type": "markdown",
   "id": "d155b6e7",
   "metadata": {},
   "source": [
    "# Getting the Data\n",
    "\n",
    "Based on a project by [Victor Soeiro](https://github.com/victor-soeiro)."
   ]
  },
  {
   "cell_type": "code",
   "execution_count": 2,
   "id": "7f81deea",
   "metadata": {
    "id": "7f81deea"
   },
   "outputs": [],
   "source": [
    "# Select the streamings plattaforms you want\n",
    "streamings = {\n",
    "    'amazon':'amp',\n",
    "    'disney':'dnp',\n",
    "    'hbo':'hbm',\n",
    "    'netflix':'nfx',\n",
    "    'paramount':'pmp',\n",
    "    'appletv':'atp'\n",
    "}"
   ]
  },
  {
   "cell_type": "code",
   "execution_count": 3,
   "id": "9df372e9",
   "metadata": {
    "id": "9df372e9"
   },
   "outputs": [],
   "source": [
    "#The URL to extract the titles\n",
    "url = \"https://apis.justwatch.com/graphql\""
   ]
  },
  {
   "cell_type": "code",
   "execution_count": 4,
   "id": "bb4f8940",
   "metadata": {
    "id": "bb4f8940"
   },
   "outputs": [],
   "source": [
    "#Specifying the User-Agent\n",
    "headers = {\n",
    "    \"content-type\": \"application/json\",\n",
    "    \"user-agent\": \"Mozilla/5.0 (Windows NT 10.0; Win64; x64) AppleWebKit/537.36 (KHTML, like Gecko) Chrome/110.0.0.0 Safari/537.36\",\n",
    "    \"accept-encoding\": \"gzip, deflate, br\"\n",
    "}"
   ]
  },
  {
   "cell_type": "code",
   "execution_count": 5,
   "id": "07f9f57a",
   "metadata": {
    "id": "07f9f57a"
   },
   "outputs": [],
   "source": [
    "#Getting the post data\n",
    "with open('src/postData.json','r',encoding='utf-8') as file:\n",
    "    postData = json.load(file)"
   ]
  },
  {
   "cell_type": "code",
   "execution_count": 6,
   "id": "41e35ff7",
   "metadata": {
    "id": "41e35ff7"
   },
   "outputs": [],
   "source": [
    "#Getting the query\n",
    "with open('src/query.graphql', 'r', encoding='utf-8') as file:\n",
    "    query = file.read()"
   ]
  },
  {
   "cell_type": "code",
   "execution_count": 7,
   "id": "751b7480",
   "metadata": {
    "id": "751b7480"
   },
   "outputs": [],
   "source": [
    "postData['query'] = query"
   ]
  },
  {
   "cell_type": "code",
   "execution_count": 8,
   "id": "64a8c12b",
   "metadata": {
    "id": "64a8c12b"
   },
   "outputs": [],
   "source": [
    "def setStreaming(plataform):\n",
    "    \"\"\"\n",
    "    A function that sets the streaming on query variables.\n",
    "    \"\"\"\n",
    "    \n",
    "    postData['variables']['popularTitlesFilter']['packages'] = [streamings[plataform ]]"
   ]
  },
  {
   "cell_type": "code",
   "execution_count": 9,
   "id": "d79e30b5",
   "metadata": {
    "id": "d79e30b5"
   },
   "outputs": [],
   "source": [
    "#REkeased year filter\n",
    "releasedYear =  [1899, 1950, 1980, 1990, 2000, 2010, 2012, 2014, 2016, 2018, 2020, 2022, 2023]"
   ]
  },
  {
   "cell_type": "code",
   "execution_count": 10,
   "id": "9c189a1c",
   "metadata": {
    "id": "9c189a1c"
   },
   "outputs": [],
   "source": [
    "def getTitles(platform, cursor = None, titles = None, start = True):\n",
    "    \"\"\" \n",
    "     Funciton that gets all titles available of a platform. \n",
    "    \"\"\"\n",
    "    \n",
    "    if not titles:\n",
    "        titles = []\n",
    "        \n",
    "    if cursor and not start:\n",
    "        postData['variables']['popularAfterCursor'] = cursor\n",
    "    else:\n",
    "        postData['variables']['popularAfterCursor'] = \"\"\n",
    "        \n",
    "    setStreaming(platform)\n",
    "    \n",
    "    ret = requests.post(url, data=json.dumps(postData), headers=headers)\n",
    "    if ret.status_code != 200:\n",
    "        raise requests.ConnectionError('Connection failed')\n",
    "        sys.exit(-1)\n",
    "    \n",
    "    results = ret.json()['data']['popularTitles']\n",
    "    titles.extend(results['edges'])\n",
    "    \n",
    "    if results['pageInfo']['hasNextPage']:\n",
    "        cursor = results['pageInfo']['endCursor']\n",
    "        getTitles(platform=platform, cursor=cursor, titles=titles, start=False)\n",
    "\n",
    "    return titles"
   ]
  },
  {
   "cell_type": "code",
   "execution_count": 11,
   "id": "9abc9407",
   "metadata": {
    "id": "9abc9407"
   },
   "outputs": [],
   "source": [
    "def titleContentParser(title):\n",
    "    \"\"\" \n",
    "    A function that parses the title content to a dictionary. \n",
    "    \"\"\"\n",
    "\n",
    "    show = title['node']\n",
    "\n",
    "    content = {}\n",
    "    content['id'] = show['id']\n",
    "    content['title'] = show['content']['title']\n",
    "    content['type'] = show['objectType']\n",
    "    content['description'] = show['content']['shortDescription']\n",
    "    content['release_year'] = show['content']['originalReleaseYear']\n",
    "    content['age_certification'] = show['content']['ageCertification']\n",
    "    content['runtime'] = show['content']['runtime']\n",
    "    content['genres'] = [i['technicalName'] for i in show['content']['genres']]\n",
    "    content['production_countries'] = show['content']['productionCountries']\n",
    "    content['seasons'] = show.get('totalSeasonCount', None)\n",
    "    content['imdb_id'] = show['content']['externalIds']['imdbId']\n",
    "    content['imdb_score'] = show['content']['scoring']['imdbScore']\n",
    "    content['imdb_votes'] = show['content']['scoring']['imdbVotes']\n",
    "    content['tmdb_popularity'] = show['content']['scoring']['tmdbPopularity']\n",
    "    content['tmdb_score'] = show['content']['scoring']['tmdbScore']\n",
    "\n",
    "    credits = [\n",
    "        {\n",
    "            'person_id': i['personId'],\n",
    "            'id': content['id'],\n",
    "            'name': i['name'],\n",
    "            'character': i['characterName'],\n",
    "            'role': i['role']\n",
    "        } for i in show['content']['credits']\n",
    "    ]\n",
    "\n",
    "    return content, credits"
   ]
  },
  {
   "cell_type": "code",
   "execution_count": 12,
   "id": "a56c0bfd",
   "metadata": {
    "id": "a56c0bfd"
   },
   "outputs": [],
   "source": [
    "def saveData(data, save = True, path = ''):\n",
    "    \"\"\" \n",
    "    Function that parses a list of titles and saves it to a file. \n",
    "    \"\"\"\n",
    "    \n",
    "    titles = []\n",
    "    credits = []\n",
    "    \n",
    "    for title in data:\n",
    "        content, credit = titleContentParser(title)\n",
    "        titles.append(content)\n",
    "        credits.extend(credit)\n",
    "        \n",
    "    if save:\n",
    "        titlesDf = pd.DataFrame(titles)\n",
    "        creditsDf = pd.DataFrame(credits)\n",
    "            \n",
    "        titlesDf.to_csv(path+'titles.csv', index=False)\n",
    "        creditsDf.to_csv(path+'credits.csv', index=False)\n",
    "        \n",
    "    return titles, credits #To enable to see the data if save=False"
   ]
  },
  {
   "cell_type": "code",
   "execution_count": 13,
   "id": "bcd8215e",
   "metadata": {
    "id": "bcd8215e"
   },
   "outputs": [],
   "source": [
    "def getPlatformTitles(platform, save=True):\n",
    "    \"\"\" \n",
    "    A function that gets all titles available on a given platform.\n",
    "    \"\"\"\n",
    "    \n",
    "    raw = []\n",
    "    for i in range(len(releasedYear) - 1):\n",
    "        filterRange = {'min': releasedYear[i]+1, 'max': releasedYear[i+1]}\n",
    "        \n",
    "        postData['variables']['popularTitlesFilter']['releaseYear'] = filterRange  # Set the filter\n",
    "        \n",
    "        yearTitles = getTitles(platform=platform)\n",
    "        raw.extend(yearTitles)\n",
    "    \n",
    "    if save:\n",
    "        filePath = f'../app/data/{platform}/' #Force to put the data in the 'data' directory\n",
    "        if not os.path.exists(filePath):\n",
    "            os.mkdir(filePath)\n",
    "            \n",
    "    titles, credits = saveData(data=raw, save=save, path=filePath)\n",
    "    \n",
    "    return titles, credits #To enable to see the data if save=False"
   ]
  },
  {
   "cell_type": "code",
   "execution_count": 14,
   "id": "e12b3e28",
   "metadata": {
    "id": "e12b3e28"
   },
   "outputs": [],
   "source": [
    "def main():\n",
    "    data = {} #If you want to use de data after\n",
    "    for platform in tqdm(streamings.keys()):\n",
    "        titles, credits = getPlatformTitles(platform=platform, save=True,)\n",
    "        \n",
    "        data[platform] = {\n",
    "            'titles': titles,\n",
    "            'credits': credits\n",
    "        }\n",
    "        \n",
    "        print(f\"Titles in {platform}: {len(data[platform]['titles'])}\")\n",
    "        print(f\"Credits in {platform}: {len(data[platform]['credits'])}\",end='\\n\\n')\n",
    "        \n",
    "            "
   ]
  },
  {
   "cell_type": "code",
   "execution_count": 15,
   "id": "dBePEEAIe3R6",
   "metadata": {
    "colab": {
     "base_uri": "https://localhost:8080/",
     "height": 49,
     "referenced_widgets": [
      "bcc73b1ceb0a41fbb62deef26a9cdc52",
      "e53ae0a7ab724751888a511f24fa36d0",
      "4077ecbfaf114a33a1aef2c29b7153b0",
      "0363b68802744b63b21d6125083a8585",
      "088ac1e60bc74ac7b0bb26a8130004c7",
      "88a59a392342450b9d814e5007d1577b",
      "500042b5ad594363851db60a97899038",
      "82b19652a9584a26a1119f8e07964b2b",
      "1b91f73214ee4fab8814d6abd6aee6e9",
      "1fcc737c1e0b4940928742a03495b7a4",
      "aea426441c1b4dddbeac5ef9b47f1ccf"
     ]
    },
    "id": "dBePEEAIe3R6",
    "outputId": "8020f694-8cca-4459-850a-c2833108ac6a"
   },
   "outputs": [
    {
     "data": {
      "application/vnd.jupyter.widget-view+json": {
       "model_id": "f684791ec8c04379a3a9d4fb92828887",
       "version_major": 2,
       "version_minor": 0
      },
      "text/plain": [
       "  0%|          | 0/6 [00:00<?, ?it/s]"
      ]
     },
     "metadata": {},
     "output_type": "display_data"
    },
    {
     "name": "stdout",
     "output_type": "stream",
     "text": [
      "Titles in amazon: 10915\n",
      "Credits in amazon: 140165\n",
      "\n",
      "Titles in disney: 1865\n",
      "Credits in disney: 30576\n",
      "\n",
      "Titles in hbo: 3112\n",
      "Credits in hbo: 69345\n",
      "\n",
      "Titles in netflix: 6154\n",
      "Credits in netflix: 81816\n",
      "\n",
      "Titles in paramount: 3154\n",
      "Credits in paramount: 50278\n",
      "\n",
      "Titles in appletv: 170\n",
      "Credits in appletv: 1740\n",
      "\n"
     ]
    }
   ],
   "source": [
    "main()"
   ]
  },
  {
   "cell_type": "markdown",
   "id": "ea81dc1f",
   "metadata": {
    "id": "xNV00Z-bpDp5"
   },
   "source": [
    "# Cleaning the Data"
   ]
  },
  {
   "cell_type": "markdown",
   "id": "590a7d95",
   "metadata": {
    "id": "D-EuduSVjSMN"
   },
   "source": [
    "## Titles imports"
   ]
  },
  {
   "cell_type": "code",
   "execution_count": 18,
   "id": "b5926f51",
   "metadata": {
    "id": "S6JGS3wmgnpv"
   },
   "outputs": [],
   "source": [
    "amazon_titles = pd.read_csv(\"../app/data/amazon/titles.csv\")\n",
    "appletv_titles = pd.read_csv(\"../app/data/appletv/titles.csv\")\n",
    "disney_titles = pd.read_csv(\"../app/data/disney/titles.csv\")\n",
    "hbo_titles = pd.read_csv(\"../app/data/hbo/titles.csv\")\n",
    "netflix_titles = pd.read_csv(\"../app/data/netflix/titles.csv\")\n",
    "paramount_titles = pd.read_csv(\"../app/data/paramount/titles.csv\")"
   ]
  },
  {
   "cell_type": "markdown",
   "id": "366b1a1e",
   "metadata": {
    "id": "tMc49beLkaVS"
   },
   "source": [
    "## Concatenation"
   ]
  },
  {
   "cell_type": "code",
   "execution_count": 19,
   "id": "432ea7fc",
   "metadata": {
    "id": "UmGTN3QckP0E"
   },
   "outputs": [],
   "source": [
    "titles = pd.concat([amazon_titles, appletv_titles, disney_titles, hbo_titles, netflix_titles, paramount_titles], axis = 0).reset_index()\n",
    "titles.drop(['index'], axis=1, inplace=True)"
   ]
  },
  {
   "cell_type": "code",
   "execution_count": 20,
   "id": "d9e9d620",
   "metadata": {
    "colab": {
     "base_uri": "https://localhost:8080/",
     "height": 1000
    },
    "id": "xEmsiDHQI2TK",
    "outputId": "27673ad4-8605-4cf8-a1b5-81d742bd3ad6"
   },
   "outputs": [
    {
     "data": {
      "text/html": [
       "<div>\n",
       "<style scoped>\n",
       "    .dataframe tbody tr th:only-of-type {\n",
       "        vertical-align: middle;\n",
       "    }\n",
       "\n",
       "    .dataframe tbody tr th {\n",
       "        vertical-align: top;\n",
       "    }\n",
       "\n",
       "    .dataframe thead th {\n",
       "        text-align: right;\n",
       "    }\n",
       "</style>\n",
       "<table border=\"1\" class=\"dataframe\">\n",
       "  <thead>\n",
       "    <tr style=\"text-align: right;\">\n",
       "      <th></th>\n",
       "      <th>id</th>\n",
       "      <th>title</th>\n",
       "      <th>type</th>\n",
       "      <th>description</th>\n",
       "      <th>release_year</th>\n",
       "      <th>age_certification</th>\n",
       "      <th>runtime</th>\n",
       "      <th>genres</th>\n",
       "      <th>production_countries</th>\n",
       "      <th>seasons</th>\n",
       "      <th>imdb_id</th>\n",
       "      <th>imdb_score</th>\n",
       "      <th>imdb_votes</th>\n",
       "      <th>tmdb_popularity</th>\n",
       "      <th>tmdb_score</th>\n",
       "    </tr>\n",
       "  </thead>\n",
       "  <tbody>\n",
       "    <tr>\n",
       "      <th>2992</th>\n",
       "      <td>tm669124</td>\n",
       "      <td>Night Things</td>\n",
       "      <td>MOVIE</td>\n",
       "      <td>Two women find themselves trapped between life...</td>\n",
       "      <td>2010</td>\n",
       "      <td>NaN</td>\n",
       "      <td>91</td>\n",
       "      <td>['horror', 'scifi']</td>\n",
       "      <td>['US']</td>\n",
       "      <td>NaN</td>\n",
       "      <td>tt1103272</td>\n",
       "      <td>4.6</td>\n",
       "      <td>121.0</td>\n",
       "      <td>1.153</td>\n",
       "      <td>NaN</td>\n",
       "    </tr>\n",
       "    <tr>\n",
       "      <th>2993</th>\n",
       "      <td>ts31759</td>\n",
       "      <td>The Saddle Club</td>\n",
       "      <td>SHOW</td>\n",
       "      <td>The Saddle Club is a children's television ser...</td>\n",
       "      <td>2001</td>\n",
       "      <td>TV-Y</td>\n",
       "      <td>25</td>\n",
       "      <td>['family']</td>\n",
       "      <td>['AU', 'CA', 'US']</td>\n",
       "      <td>3.0</td>\n",
       "      <td>tt0278876</td>\n",
       "      <td>6.1</td>\n",
       "      <td>1076.0</td>\n",
       "      <td>8.433</td>\n",
       "      <td>6.500</td>\n",
       "    </tr>\n",
       "    <tr>\n",
       "      <th>2994</th>\n",
       "      <td>tm55859</td>\n",
       "      <td>Jack and Jill vs. The World</td>\n",
       "      <td>MOVIE</td>\n",
       "      <td>Jack and Jill's Manifesto of Rules to Live By ...</td>\n",
       "      <td>2010</td>\n",
       "      <td>PG-13</td>\n",
       "      <td>89</td>\n",
       "      <td>['romance', 'comedy', 'drama']</td>\n",
       "      <td>['US']</td>\n",
       "      <td>NaN</td>\n",
       "      <td>tt0475252</td>\n",
       "      <td>5.5</td>\n",
       "      <td>3036.0</td>\n",
       "      <td>5.503</td>\n",
       "      <td>5.200</td>\n",
       "    </tr>\n",
       "    <tr>\n",
       "      <th>2995</th>\n",
       "      <td>tm95226</td>\n",
       "      <td>Ties That Bind</td>\n",
       "      <td>MOVIE</td>\n",
       "      <td>Hope finds herself leaving the comfort of her ...</td>\n",
       "      <td>2010</td>\n",
       "      <td>NaN</td>\n",
       "      <td>90</td>\n",
       "      <td>['thriller', 'crime']</td>\n",
       "      <td>['CA']</td>\n",
       "      <td>NaN</td>\n",
       "      <td>tt1615110</td>\n",
       "      <td>5.0</td>\n",
       "      <td>341.0</td>\n",
       "      <td>5.306</td>\n",
       "      <td>4.200</td>\n",
       "    </tr>\n",
       "    <tr>\n",
       "      <th>3352</th>\n",
       "      <td>tm77863</td>\n",
       "      <td>Honeymoon Travels Pvt. Ltd.</td>\n",
       "      <td>MOVIE</td>\n",
       "      <td>Six newly-married, diverse, honeymooning coupl...</td>\n",
       "      <td>2007</td>\n",
       "      <td>PG-13</td>\n",
       "      <td>118</td>\n",
       "      <td>['comedy', 'drama', 'romance']</td>\n",
       "      <td>['IN']</td>\n",
       "      <td>NaN</td>\n",
       "      <td>tt0808306</td>\n",
       "      <td>6.1</td>\n",
       "      <td>2748.0</td>\n",
       "      <td>4.777</td>\n",
       "      <td>5.273</td>\n",
       "    </tr>\n",
       "  </tbody>\n",
       "</table>\n",
       "</div>"
      ],
      "text/plain": [
       "            id                        title   type  \\\n",
       "2992  tm669124                 Night Things  MOVIE   \n",
       "2993   ts31759              The Saddle Club   SHOW   \n",
       "2994   tm55859  Jack and Jill vs. The World  MOVIE   \n",
       "2995   tm95226               Ties That Bind  MOVIE   \n",
       "3352   tm77863  Honeymoon Travels Pvt. Ltd.  MOVIE   \n",
       "\n",
       "                                            description  release_year  \\\n",
       "2992  Two women find themselves trapped between life...          2010   \n",
       "2993  The Saddle Club is a children's television ser...          2001   \n",
       "2994  Jack and Jill's Manifesto of Rules to Live By ...          2010   \n",
       "2995  Hope finds herself leaving the comfort of her ...          2010   \n",
       "3352  Six newly-married, diverse, honeymooning coupl...          2007   \n",
       "\n",
       "     age_certification  runtime                          genres  \\\n",
       "2992               NaN       91             ['horror', 'scifi']   \n",
       "2993              TV-Y       25                      ['family']   \n",
       "2994             PG-13       89  ['romance', 'comedy', 'drama']   \n",
       "2995               NaN       90           ['thriller', 'crime']   \n",
       "3352             PG-13      118  ['comedy', 'drama', 'romance']   \n",
       "\n",
       "     production_countries  seasons    imdb_id  imdb_score  imdb_votes  \\\n",
       "2992               ['US']      NaN  tt1103272         4.6       121.0   \n",
       "2993   ['AU', 'CA', 'US']      3.0  tt0278876         6.1      1076.0   \n",
       "2994               ['US']      NaN  tt0475252         5.5      3036.0   \n",
       "2995               ['CA']      NaN  tt1615110         5.0       341.0   \n",
       "3352               ['IN']      NaN  tt0808306         6.1      2748.0   \n",
       "\n",
       "      tmdb_popularity  tmdb_score  \n",
       "2992            1.153         NaN  \n",
       "2993            8.433       6.500  \n",
       "2994            5.503       5.200  \n",
       "2995            5.306       4.200  \n",
       "3352            4.777       5.273  "
      ]
     },
     "execution_count": 20,
     "metadata": {},
     "output_type": "execute_result"
    }
   ],
   "source": [
    "# Seeing if we have duplicates\n",
    "titles[titles.duplicated() == True].head(5)"
   ]
  },
  {
   "cell_type": "code",
   "execution_count": 21,
   "id": "35622f80",
   "metadata": {
    "id": "T5eE6yv-k_k9"
   },
   "outputs": [],
   "source": [
    "# Dropping duplicates\n",
    "titles.drop_duplicates(inplace=True)"
   ]
  },
  {
   "cell_type": "code",
   "execution_count": 22,
   "id": "54abcce9",
   "metadata": {
    "colab": {
     "base_uri": "https://localhost:8080/",
     "height": 548
    },
    "id": "N_DS8fPfoZ6-",
    "outputId": "5d5a8256-0794-4cb6-f359-7584a6ffe2d1"
   },
   "outputs": [
    {
     "data": {
      "text/html": [
       "<div>\n",
       "<style scoped>\n",
       "    .dataframe tbody tr th:only-of-type {\n",
       "        vertical-align: middle;\n",
       "    }\n",
       "\n",
       "    .dataframe tbody tr th {\n",
       "        vertical-align: top;\n",
       "    }\n",
       "\n",
       "    .dataframe thead th {\n",
       "        text-align: right;\n",
       "    }\n",
       "</style>\n",
       "<table border=\"1\" class=\"dataframe\">\n",
       "  <thead>\n",
       "    <tr style=\"text-align: right;\">\n",
       "      <th></th>\n",
       "      <th>id</th>\n",
       "      <th>title</th>\n",
       "      <th>type</th>\n",
       "      <th>description</th>\n",
       "      <th>release_year</th>\n",
       "      <th>age_certification</th>\n",
       "      <th>runtime</th>\n",
       "      <th>genres</th>\n",
       "      <th>production_countries</th>\n",
       "      <th>seasons</th>\n",
       "      <th>imdb_id</th>\n",
       "      <th>imdb_score</th>\n",
       "      <th>imdb_votes</th>\n",
       "      <th>tmdb_popularity</th>\n",
       "      <th>tmdb_score</th>\n",
       "    </tr>\n",
       "  </thead>\n",
       "  <tbody>\n",
       "    <tr>\n",
       "      <th>0</th>\n",
       "      <td>tm87233</td>\n",
       "      <td>It's a Wonderful Life</td>\n",
       "      <td>MOVIE</td>\n",
       "      <td>A holiday favourite for generations...  George...</td>\n",
       "      <td>1946</td>\n",
       "      <td>PG</td>\n",
       "      <td>130</td>\n",
       "      <td>['drama', 'family', 'fantasy', 'romance', 'com...</td>\n",
       "      <td>['US']</td>\n",
       "      <td>NaN</td>\n",
       "      <td>tt0038650</td>\n",
       "      <td>8.6</td>\n",
       "      <td>468814.0</td>\n",
       "      <td>35.635</td>\n",
       "      <td>8.264</td>\n",
       "    </tr>\n",
       "    <tr>\n",
       "      <th>1</th>\n",
       "      <td>tm38206</td>\n",
       "      <td>Whoopee!</td>\n",
       "      <td>MOVIE</td>\n",
       "      <td>Western sheriff Bob Wells is preparing to marr...</td>\n",
       "      <td>1930</td>\n",
       "      <td>NaN</td>\n",
       "      <td>93</td>\n",
       "      <td>['comedy', 'romance', 'western']</td>\n",
       "      <td>['US']</td>\n",
       "      <td>NaN</td>\n",
       "      <td>tt0021549</td>\n",
       "      <td>6.4</td>\n",
       "      <td>1091.0</td>\n",
       "      <td>1.448</td>\n",
       "      <td>7.000</td>\n",
       "    </tr>\n",
       "    <tr>\n",
       "      <th>2</th>\n",
       "      <td>tm143047</td>\n",
       "      <td>Duck Soup</td>\n",
       "      <td>MOVIE</td>\n",
       "      <td>Rufus T. Firefly is named president/dictator o...</td>\n",
       "      <td>1933</td>\n",
       "      <td>NaN</td>\n",
       "      <td>69</td>\n",
       "      <td>['comedy', 'war']</td>\n",
       "      <td>['US']</td>\n",
       "      <td>NaN</td>\n",
       "      <td>tt0023969</td>\n",
       "      <td>7.8</td>\n",
       "      <td>61085.0</td>\n",
       "      <td>11.664</td>\n",
       "      <td>7.300</td>\n",
       "    </tr>\n",
       "    <tr>\n",
       "      <th>3</th>\n",
       "      <td>tm83884</td>\n",
       "      <td>His Girl Friday</td>\n",
       "      <td>MOVIE</td>\n",
       "      <td>Hildy, the journalist former wife of newspaper...</td>\n",
       "      <td>1940</td>\n",
       "      <td>NaN</td>\n",
       "      <td>92</td>\n",
       "      <td>['romance', 'drama', 'comedy']</td>\n",
       "      <td>['US']</td>\n",
       "      <td>NaN</td>\n",
       "      <td>tt0032599</td>\n",
       "      <td>7.8</td>\n",
       "      <td>60412.0</td>\n",
       "      <td>12.582</td>\n",
       "      <td>7.400</td>\n",
       "    </tr>\n",
       "    <tr>\n",
       "      <th>4</th>\n",
       "      <td>ts20945</td>\n",
       "      <td>The Three Stooges</td>\n",
       "      <td>SHOW</td>\n",
       "      <td>The Three Stooges were an American vaudeville ...</td>\n",
       "      <td>1934</td>\n",
       "      <td>TV-PG</td>\n",
       "      <td>19</td>\n",
       "      <td>['comedy', 'family']</td>\n",
       "      <td>['US']</td>\n",
       "      <td>26.0</td>\n",
       "      <td>tt0850645</td>\n",
       "      <td>8.5</td>\n",
       "      <td>1163.0</td>\n",
       "      <td>15.424</td>\n",
       "      <td>7.600</td>\n",
       "    </tr>\n",
       "  </tbody>\n",
       "</table>\n",
       "</div>"
      ],
      "text/plain": [
       "         id                  title   type  \\\n",
       "0   tm87233  It's a Wonderful Life  MOVIE   \n",
       "1   tm38206               Whoopee!  MOVIE   \n",
       "2  tm143047              Duck Soup  MOVIE   \n",
       "3   tm83884        His Girl Friday  MOVIE   \n",
       "4   ts20945      The Three Stooges   SHOW   \n",
       "\n",
       "                                         description  release_year  \\\n",
       "0  A holiday favourite for generations...  George...          1946   \n",
       "1  Western sheriff Bob Wells is preparing to marr...          1930   \n",
       "2  Rufus T. Firefly is named president/dictator o...          1933   \n",
       "3  Hildy, the journalist former wife of newspaper...          1940   \n",
       "4  The Three Stooges were an American vaudeville ...          1934   \n",
       "\n",
       "  age_certification  runtime  \\\n",
       "0                PG      130   \n",
       "1               NaN       93   \n",
       "2               NaN       69   \n",
       "3               NaN       92   \n",
       "4             TV-PG       19   \n",
       "\n",
       "                                              genres production_countries  \\\n",
       "0  ['drama', 'family', 'fantasy', 'romance', 'com...               ['US']   \n",
       "1                   ['comedy', 'romance', 'western']               ['US']   \n",
       "2                                  ['comedy', 'war']               ['US']   \n",
       "3                     ['romance', 'drama', 'comedy']               ['US']   \n",
       "4                               ['comedy', 'family']               ['US']   \n",
       "\n",
       "   seasons    imdb_id  imdb_score  imdb_votes  tmdb_popularity  tmdb_score  \n",
       "0      NaN  tt0038650         8.6    468814.0           35.635       8.264  \n",
       "1      NaN  tt0021549         6.4      1091.0            1.448       7.000  \n",
       "2      NaN  tt0023969         7.8     61085.0           11.664       7.300  \n",
       "3      NaN  tt0032599         7.8     60412.0           12.582       7.400  \n",
       "4     26.0  tt0850645         8.5      1163.0           15.424       7.600  "
      ]
     },
     "execution_count": 22,
     "metadata": {},
     "output_type": "execute_result"
    }
   ],
   "source": [
    "titles.head()"
   ]
  },
  {
   "cell_type": "markdown",
   "id": "5e4eac49",
   "metadata": {
    "id": "nOH5hn_OpLV6"
   },
   "source": [
    "## Seeing how many null values"
   ]
  },
  {
   "cell_type": "markdown",
   "id": "8ae3dac6",
   "metadata": {
    "id": "r3xlQTjag_XL"
   },
   "source": [
    "First, let's see how many non-null values we have for each column"
   ]
  },
  {
   "cell_type": "code",
   "execution_count": 23,
   "id": "2e2201b4",
   "metadata": {
    "colab": {
     "base_uri": "https://localhost:8080/"
    },
    "id": "L15J6veFpOfz",
    "outputId": "ae3852bf-b5de-46ee-98ce-7f088293e6c3"
   },
   "outputs": [
    {
     "name": "stdout",
     "output_type": "stream",
     "text": [
      "<class 'pandas.core.frame.DataFrame'>\n",
      "Int64Index: 23483 entries, 0 to 25369\n",
      "Data columns (total 15 columns):\n",
      " #   Column                Non-Null Count  Dtype  \n",
      "---  ------                --------------  -----  \n",
      " 0   id                    23483 non-null  object \n",
      " 1   title                 23483 non-null  object \n",
      " 2   type                  23483 non-null  object \n",
      " 3   description           23301 non-null  object \n",
      " 4   release_year          23483 non-null  int64  \n",
      " 5   age_certification     11466 non-null  object \n",
      " 6   runtime               23483 non-null  int64  \n",
      " 7   genres                23483 non-null  object \n",
      " 8   production_countries  23483 non-null  object \n",
      " 9   seasons               5672 non-null   float64\n",
      " 10  imdb_id               21538 non-null  object \n",
      " 11  imdb_score            20930 non-null  float64\n",
      " 12  imdb_votes            20869 non-null  float64\n",
      " 13  tmdb_popularity       22759 non-null  float64\n",
      " 14  tmdb_score            20527 non-null  float64\n",
      "dtypes: float64(5), int64(2), object(8)\n",
      "memory usage: 2.9+ MB\n"
     ]
    }
   ],
   "source": [
    "titles.info()"
   ]
  },
  {
   "cell_type": "markdown",
   "id": "5ca43813",
   "metadata": {
    "id": "-2XWysc3pRWO"
   },
   "source": [
    "We have some gaps in each column, let's see how many null values are for each column"
   ]
  },
  {
   "cell_type": "code",
   "execution_count": 24,
   "id": "dccd85a9",
   "metadata": {
    "colab": {
     "base_uri": "https://localhost:8080/"
    },
    "id": "JmVZ_aUMuk_g",
    "outputId": "fffdd451-53c7-4d16-c64d-5291637b55cc"
   },
   "outputs": [
    {
     "data": {
      "text/plain": [
       "id                          0\n",
       "title                       0\n",
       "type                        0\n",
       "description               182\n",
       "release_year                0\n",
       "age_certification       12017\n",
       "runtime                     0\n",
       "genres                      0\n",
       "production_countries        0\n",
       "seasons                 17811\n",
       "imdb_id                  1945\n",
       "imdb_score               2553\n",
       "imdb_votes               2614\n",
       "tmdb_popularity           724\n",
       "tmdb_score               2956\n",
       "dtype: int64"
      ]
     },
     "execution_count": 24,
     "metadata": {},
     "output_type": "execute_result"
    }
   ],
   "source": [
    "titles.isna().sum()"
   ]
  },
  {
   "cell_type": "markdown",
   "id": "bb67475d",
   "metadata": {},
   "source": [
    "To get a better understanging of the picture, let's use [missingno](https://github.com/ResidentMario/missingno) to see the missing data in our dataset:"
   ]
  },
  {
   "cell_type": "code",
   "execution_count": 25,
   "id": "3ca7501d",
   "metadata": {},
   "outputs": [
    {
     "data": {
      "text/plain": [
       "Text(0.5, 1.0, 'Distribution of Missing Values')"
      ]
     },
     "execution_count": 25,
     "metadata": {},
     "output_type": "execute_result"
    },
    {
     "data": {
      "image/png": "[encoded data removed]",
      "text/plain": [
       "<Figure size 3000x1000 with 1 Axes>"
      ]
     },
     "metadata": {},
     "output_type": "display_data"
    }
   ],
   "source": [
    "msno.matrix(titles, sparkline=False, figsize=(30,10), color=(0.69,0.23,0.42))\n",
    "plt.title('Distribution of Missing Values', fontsize=40)"
   ]
  },
  {
   "cell_type": "markdown",
   "id": "041a1f3d",
   "metadata": {
    "id": "mizvsD9dpnQX"
   },
   "source": [
    "## Handling the 'genres' and 'production_countries' columns"
   ]
  },
  {
   "cell_type": "markdown",
   "id": "7f0af44f",
   "metadata": {
    "id": "A-HerLAdp19Z"
   },
   "source": [
    "These two columns are formed by list values, so we need to handle these values to work with a single value."
   ]
  },
  {
   "cell_type": "code",
   "execution_count": 26,
   "id": "ff1571e7",
   "metadata": {
    "colab": {
     "base_uri": "https://localhost:8080/"
    },
    "id": "YFX_NxIqqTkx",
    "outputId": "da4e874f-3c30-4fd4-a3d7-a7c490159e9f"
   },
   "outputs": [
    {
     "name": "stderr",
     "output_type": "stream",
     "text": [
      "C:\\Users\\diego\\AppData\\Local\\Temp\\ipykernel_3680\\2497750954.py:2: FutureWarning: The default value of regex will change from True to False in a future version. In addition, single character regular expressions will *not* be treated as literal strings when regex=True.\n",
      "  titles['genres'] = titles['genres'].str.replace(r'[','').str.replace(r\"'\",'').str.replace(r']','')\n",
      "C:\\Users\\diego\\AppData\\Local\\Temp\\ipykernel_3680\\2497750954.py:6: FutureWarning: The default value of regex will change from True to False in a future version. In addition, single character regular expressions will *not* be treated as literal strings when regex=True.\n",
      "  titles['production_countries'] = titles['production_countries'].str.replace(r\"[\", '').str.replace(r\"'\", '').str.replace(r\"]\", '')\n"
     ]
    }
   ],
   "source": [
    "# For genres\n",
    "titles['genres'] = titles['genres'].str.replace(r'[','').str.replace(r\"'\",'').str.replace(r']','')\n",
    "titles['genre'] = titles['genres'].str.split(',').str[0]\n",
    "\n",
    "# For countries\n",
    "titles['production_countries'] = titles['production_countries'].str.replace(r\"[\", '').str.replace(r\"'\", '').str.replace(r\"]\", '')\n",
    "titles['production_country'] = titles['production_countries'].str.split(',').str[0]\n"
   ]
  },
  {
   "cell_type": "code",
   "execution_count": 27,
   "id": "455ceb67",
   "metadata": {
    "id": "0keKhePKtrgr"
   },
   "outputs": [],
   "source": [
    "titles.drop(['genres', 'production_countries'], axis=1, inplace=True)"
   ]
  },
  {
   "cell_type": "code",
   "execution_count": 28,
   "id": "00bfb995",
   "metadata": {
    "colab": {
     "base_uri": "https://localhost:8080/",
     "height": 0
    },
    "id": "anvSCXZxq78M",
    "outputId": "d6a732f7-e342-4bad-c08d-1148e7dca3f8"
   },
   "outputs": [
    {
     "data": {
      "text/html": [
       "<div>\n",
       "<style scoped>\n",
       "    .dataframe tbody tr th:only-of-type {\n",
       "        vertical-align: middle;\n",
       "    }\n",
       "\n",
       "    .dataframe tbody tr th {\n",
       "        vertical-align: top;\n",
       "    }\n",
       "\n",
       "    .dataframe thead th {\n",
       "        text-align: right;\n",
       "    }\n",
       "</style>\n",
       "<table border=\"1\" class=\"dataframe\">\n",
       "  <thead>\n",
       "    <tr style=\"text-align: right;\">\n",
       "      <th></th>\n",
       "      <th>id</th>\n",
       "      <th>title</th>\n",
       "      <th>type</th>\n",
       "      <th>description</th>\n",
       "      <th>release_year</th>\n",
       "      <th>age_certification</th>\n",
       "      <th>runtime</th>\n",
       "      <th>seasons</th>\n",
       "      <th>imdb_id</th>\n",
       "      <th>imdb_score</th>\n",
       "      <th>imdb_votes</th>\n",
       "      <th>tmdb_popularity</th>\n",
       "      <th>tmdb_score</th>\n",
       "      <th>genre</th>\n",
       "      <th>production_country</th>\n",
       "    </tr>\n",
       "  </thead>\n",
       "  <tbody>\n",
       "    <tr>\n",
       "      <th>0</th>\n",
       "      <td>tm87233</td>\n",
       "      <td>It's a Wonderful Life</td>\n",
       "      <td>MOVIE</td>\n",
       "      <td>A holiday favourite for generations...  George...</td>\n",
       "      <td>1946</td>\n",
       "      <td>PG</td>\n",
       "      <td>130</td>\n",
       "      <td>NaN</td>\n",
       "      <td>tt0038650</td>\n",
       "      <td>8.6</td>\n",
       "      <td>468814.0</td>\n",
       "      <td>35.635</td>\n",
       "      <td>8.264</td>\n",
       "      <td>drama</td>\n",
       "      <td>US</td>\n",
       "    </tr>\n",
       "    <tr>\n",
       "      <th>1</th>\n",
       "      <td>tm38206</td>\n",
       "      <td>Whoopee!</td>\n",
       "      <td>MOVIE</td>\n",
       "      <td>Western sheriff Bob Wells is preparing to marr...</td>\n",
       "      <td>1930</td>\n",
       "      <td>NaN</td>\n",
       "      <td>93</td>\n",
       "      <td>NaN</td>\n",
       "      <td>tt0021549</td>\n",
       "      <td>6.4</td>\n",
       "      <td>1091.0</td>\n",
       "      <td>1.448</td>\n",
       "      <td>7.000</td>\n",
       "      <td>comedy</td>\n",
       "      <td>US</td>\n",
       "    </tr>\n",
       "    <tr>\n",
       "      <th>2</th>\n",
       "      <td>tm143047</td>\n",
       "      <td>Duck Soup</td>\n",
       "      <td>MOVIE</td>\n",
       "      <td>Rufus T. Firefly is named president/dictator o...</td>\n",
       "      <td>1933</td>\n",
       "      <td>NaN</td>\n",
       "      <td>69</td>\n",
       "      <td>NaN</td>\n",
       "      <td>tt0023969</td>\n",
       "      <td>7.8</td>\n",
       "      <td>61085.0</td>\n",
       "      <td>11.664</td>\n",
       "      <td>7.300</td>\n",
       "      <td>comedy</td>\n",
       "      <td>US</td>\n",
       "    </tr>\n",
       "    <tr>\n",
       "      <th>3</th>\n",
       "      <td>tm83884</td>\n",
       "      <td>His Girl Friday</td>\n",
       "      <td>MOVIE</td>\n",
       "      <td>Hildy, the journalist former wife of newspaper...</td>\n",
       "      <td>1940</td>\n",
       "      <td>NaN</td>\n",
       "      <td>92</td>\n",
       "      <td>NaN</td>\n",
       "      <td>tt0032599</td>\n",
       "      <td>7.8</td>\n",
       "      <td>60412.0</td>\n",
       "      <td>12.582</td>\n",
       "      <td>7.400</td>\n",
       "      <td>romance</td>\n",
       "      <td>US</td>\n",
       "    </tr>\n",
       "    <tr>\n",
       "      <th>4</th>\n",
       "      <td>ts20945</td>\n",
       "      <td>The Three Stooges</td>\n",
       "      <td>SHOW</td>\n",
       "      <td>The Three Stooges were an American vaudeville ...</td>\n",
       "      <td>1934</td>\n",
       "      <td>TV-PG</td>\n",
       "      <td>19</td>\n",
       "      <td>26.0</td>\n",
       "      <td>tt0850645</td>\n",
       "      <td>8.5</td>\n",
       "      <td>1163.0</td>\n",
       "      <td>15.424</td>\n",
       "      <td>7.600</td>\n",
       "      <td>comedy</td>\n",
       "      <td>US</td>\n",
       "    </tr>\n",
       "  </tbody>\n",
       "</table>\n",
       "</div>"
      ],
      "text/plain": [
       "         id                  title   type  \\\n",
       "0   tm87233  It's a Wonderful Life  MOVIE   \n",
       "1   tm38206               Whoopee!  MOVIE   \n",
       "2  tm143047              Duck Soup  MOVIE   \n",
       "3   tm83884        His Girl Friday  MOVIE   \n",
       "4   ts20945      The Three Stooges   SHOW   \n",
       "\n",
       "                                         description  release_year  \\\n",
       "0  A holiday favourite for generations...  George...          1946   \n",
       "1  Western sheriff Bob Wells is preparing to marr...          1930   \n",
       "2  Rufus T. Firefly is named president/dictator o...          1933   \n",
       "3  Hildy, the journalist former wife of newspaper...          1940   \n",
       "4  The Three Stooges were an American vaudeville ...          1934   \n",
       "\n",
       "  age_certification  runtime  seasons    imdb_id  imdb_score  imdb_votes  \\\n",
       "0                PG      130      NaN  tt0038650         8.6    468814.0   \n",
       "1               NaN       93      NaN  tt0021549         6.4      1091.0   \n",
       "2               NaN       69      NaN  tt0023969         7.8     61085.0   \n",
       "3               NaN       92      NaN  tt0032599         7.8     60412.0   \n",
       "4             TV-PG       19     26.0  tt0850645         8.5      1163.0   \n",
       "\n",
       "   tmdb_popularity  tmdb_score    genre production_country  \n",
       "0           35.635       8.264    drama                 US  \n",
       "1            1.448       7.000   comedy                 US  \n",
       "2           11.664       7.300   comedy                 US  \n",
       "3           12.582       7.400  romance                 US  \n",
       "4           15.424       7.600   comedy                 US  "
      ]
     },
     "execution_count": 28,
     "metadata": {},
     "output_type": "execute_result"
    }
   ],
   "source": [
    "titles.head()"
   ]
  },
  {
   "cell_type": "code",
   "execution_count": 29,
   "id": "2871302a",
   "metadata": {
    "colab": {
     "base_uri": "https://localhost:8080/"
    },
    "id": "OuRxFeKKujmL",
    "outputId": "2060f7bd-c6ff-4f3f-c46a-6583675a73b4"
   },
   "outputs": [
    {
     "data": {
      "text/plain": [
       "array(['drama', 'comedy', 'romance', 'western', 'history', 'action',\n",
       "       'thriller', 'fantasy', 'horror', 'war', 'animation',\n",
       "       'documentation', 'crime', '', 'family', 'music', 'scifi',\n",
       "       'reality', 'sport', 'european'], dtype=object)"
      ]
     },
     "execution_count": 29,
     "metadata": {},
     "output_type": "execute_result"
    }
   ],
   "source": [
    "titles['genre'].unique()"
   ]
  },
  {
   "cell_type": "code",
   "execution_count": 30,
   "id": "5b89b456",
   "metadata": {
    "colab": {
     "base_uri": "https://localhost:8080/"
    },
    "id": "nWk9saQbvERL",
    "outputId": "c1c31035-64f4-4ada-d3aa-959dcdc9df5e"
   },
   "outputs": [
    {
     "data": {
      "text/plain": [
       "array(['US', 'GB', 'SU', 'DE', 'MX', 'CA', '', 'SE', 'IN', 'HK', 'IT',\n",
       "       'AU', 'MA', 'FR', 'JP', 'ES', 'PR', 'TW', 'PH', 'LI', 'NL', 'RO',\n",
       "       'IE', 'KR', 'CI', 'CH', 'YU', 'IL', 'EG', 'RU', 'BD', 'HU', 'ZA',\n",
       "       'BR', 'CL', 'NZ', 'AR', 'DK', 'CZ', 'IR', 'AT', 'CN', 'BE', 'PT',\n",
       "       'GH', 'ID', 'VE', 'XC', 'TH', 'NO', 'BG', 'PL', 'CO', 'AE', 'RW',\n",
       "       'GR', 'AF', 'SK', 'RS', 'JM', 'SG', 'TC', 'UY', 'UA', 'CS', 'MY',\n",
       "       'LT', 'SA', 'EC', 'NG', 'ZM', 'DO', 'VN', 'TR', 'LV', 'FI', 'DZ',\n",
       "       'MT', 'GE', 'LU', 'BY', 'PK', 'PE', 'XK', 'IS', 'KE', 'SV', 'LB',\n",
       "       'CR', 'MN', 'NI', 'PA', 'UZ', 'NA', 'KH', 'CM', 'CU', 'ET', 'EE',\n",
       "       'JO', 'QA', 'BM', 'NP', 'PF', 'HN', 'NC', 'TN', 'IO', 'MK', 'TT',\n",
       "       'GT', 'BW', 'SN', 'BS', 'PY', 'BO', 'PS', 'CD', 'CY', 'SY', 'GL',\n",
       "       'AL', 'KW', 'IQ', 'TZ', 'AO', 'MU', 'ZW'], dtype=object)"
      ]
     },
     "execution_count": 30,
     "metadata": {},
     "output_type": "execute_result"
    }
   ],
   "source": [
    "titles['production_country'].unique()"
   ]
  },
  {
   "cell_type": "markdown",
   "id": "4f3ce7a8",
   "metadata": {
    "id": "KsKdDniVvHgh"
   },
   "source": [
    "We can see that in both columns we have an empty value. Let's fill these values with NaN to make it easier to deal with in the future."
   ]
  },
  {
   "cell_type": "code",
   "execution_count": 33,
   "id": "da2b0651",
   "metadata": {
    "id": "BbkgH4-4vXMB"
   },
   "outputs": [],
   "source": [
    "titles['genre'] = titles['genre'].replace('', np.nan)\n",
    "titles['production_country'] = titles['production_country'].replace('',np.nan)"
   ]
  },
  {
   "cell_type": "markdown",
   "id": "8c7e8a59",
   "metadata": {
    "id": "YWt493hTpe6q"
   },
   "source": [
    "## Handling the 'seasons' column"
   ]
  },
  {
   "cell_type": "markdown",
   "id": "c604bd20",
   "metadata": {
    "id": "2ML-ib_uk8TS"
   },
   "source": [
    "Now let's deal with the 'seasons' column. At first glance, we can say that all the null values are of type 'MOVIE'. Let's see if this is true by comparing the number of null values with the number of movie titles that do not have a value in 'seasons'."
   ]
  },
  {
   "cell_type": "code",
   "execution_count": 34,
   "id": "447b2735",
   "metadata": {
    "colab": {
     "base_uri": "https://localhost:8080/"
    },
    "id": "UnxIfT45muew",
    "outputId": "94bb64b5-f121-4e3c-fe40-c3ed82a40e2d"
   },
   "outputs": [
    {
     "data": {
      "text/plain": [
       "True"
      ]
     },
     "execution_count": 34,
     "metadata": {},
     "output_type": "execute_result"
    }
   ],
   "source": [
    "len(titles.loc[(titles['seasons'].isna()) & (titles['type'] == 'MOVIE')]) == titles.seasons.isna().sum()"
   ]
  },
  {
   "cell_type": "markdown",
   "id": "88642ab3",
   "metadata": {
    "id": "9uvvANSWoVQ8"
   },
   "source": [
    "So, all the null values from 'season' is from movies. Let's change the null values to 0."
   ]
  },
  {
   "cell_type": "code",
   "execution_count": 35,
   "id": "3f69d41d",
   "metadata": {
    "id": "TzjgW3rGokHz"
   },
   "outputs": [],
   "source": [
    "titles['seasons'].fillna(0, inplace=True)"
   ]
  },
  {
   "cell_type": "code",
   "execution_count": 36,
   "id": "0c3a233b",
   "metadata": {
    "colab": {
     "base_uri": "https://localhost:8080/",
     "height": 0
    },
    "id": "AQC4i_npo1-Q",
    "outputId": "4ae45d46-8af8-4c6a-8889-50de452ae0aa"
   },
   "outputs": [
    {
     "data": {
      "text/html": [
       "<div>\n",
       "<style scoped>\n",
       "    .dataframe tbody tr th:only-of-type {\n",
       "        vertical-align: middle;\n",
       "    }\n",
       "\n",
       "    .dataframe tbody tr th {\n",
       "        vertical-align: top;\n",
       "    }\n",
       "\n",
       "    .dataframe thead th {\n",
       "        text-align: right;\n",
       "    }\n",
       "</style>\n",
       "<table border=\"1\" class=\"dataframe\">\n",
       "  <thead>\n",
       "    <tr style=\"text-align: right;\">\n",
       "      <th></th>\n",
       "      <th>id</th>\n",
       "      <th>title</th>\n",
       "      <th>type</th>\n",
       "      <th>description</th>\n",
       "      <th>release_year</th>\n",
       "      <th>age_certification</th>\n",
       "      <th>runtime</th>\n",
       "      <th>seasons</th>\n",
       "      <th>imdb_id</th>\n",
       "      <th>imdb_score</th>\n",
       "      <th>imdb_votes</th>\n",
       "      <th>tmdb_popularity</th>\n",
       "      <th>tmdb_score</th>\n",
       "      <th>genre</th>\n",
       "      <th>production_country</th>\n",
       "    </tr>\n",
       "  </thead>\n",
       "  <tbody>\n",
       "    <tr>\n",
       "      <th>0</th>\n",
       "      <td>tm87233</td>\n",
       "      <td>It's a Wonderful Life</td>\n",
       "      <td>MOVIE</td>\n",
       "      <td>A holiday favourite for generations...  George...</td>\n",
       "      <td>1946</td>\n",
       "      <td>PG</td>\n",
       "      <td>130</td>\n",
       "      <td>0.0</td>\n",
       "      <td>tt0038650</td>\n",
       "      <td>8.6</td>\n",
       "      <td>468814.0</td>\n",
       "      <td>35.635</td>\n",
       "      <td>8.264</td>\n",
       "      <td>drama</td>\n",
       "      <td>US</td>\n",
       "    </tr>\n",
       "    <tr>\n",
       "      <th>1</th>\n",
       "      <td>tm38206</td>\n",
       "      <td>Whoopee!</td>\n",
       "      <td>MOVIE</td>\n",
       "      <td>Western sheriff Bob Wells is preparing to marr...</td>\n",
       "      <td>1930</td>\n",
       "      <td>NaN</td>\n",
       "      <td>93</td>\n",
       "      <td>0.0</td>\n",
       "      <td>tt0021549</td>\n",
       "      <td>6.4</td>\n",
       "      <td>1091.0</td>\n",
       "      <td>1.448</td>\n",
       "      <td>7.000</td>\n",
       "      <td>comedy</td>\n",
       "      <td>US</td>\n",
       "    </tr>\n",
       "    <tr>\n",
       "      <th>2</th>\n",
       "      <td>tm143047</td>\n",
       "      <td>Duck Soup</td>\n",
       "      <td>MOVIE</td>\n",
       "      <td>Rufus T. Firefly is named president/dictator o...</td>\n",
       "      <td>1933</td>\n",
       "      <td>NaN</td>\n",
       "      <td>69</td>\n",
       "      <td>0.0</td>\n",
       "      <td>tt0023969</td>\n",
       "      <td>7.8</td>\n",
       "      <td>61085.0</td>\n",
       "      <td>11.664</td>\n",
       "      <td>7.300</td>\n",
       "      <td>comedy</td>\n",
       "      <td>US</td>\n",
       "    </tr>\n",
       "    <tr>\n",
       "      <th>3</th>\n",
       "      <td>tm83884</td>\n",
       "      <td>His Girl Friday</td>\n",
       "      <td>MOVIE</td>\n",
       "      <td>Hildy, the journalist former wife of newspaper...</td>\n",
       "      <td>1940</td>\n",
       "      <td>NaN</td>\n",
       "      <td>92</td>\n",
       "      <td>0.0</td>\n",
       "      <td>tt0032599</td>\n",
       "      <td>7.8</td>\n",
       "      <td>60412.0</td>\n",
       "      <td>12.582</td>\n",
       "      <td>7.400</td>\n",
       "      <td>romance</td>\n",
       "      <td>US</td>\n",
       "    </tr>\n",
       "    <tr>\n",
       "      <th>4</th>\n",
       "      <td>ts20945</td>\n",
       "      <td>The Three Stooges</td>\n",
       "      <td>SHOW</td>\n",
       "      <td>The Three Stooges were an American vaudeville ...</td>\n",
       "      <td>1934</td>\n",
       "      <td>TV-PG</td>\n",
       "      <td>19</td>\n",
       "      <td>26.0</td>\n",
       "      <td>tt0850645</td>\n",
       "      <td>8.5</td>\n",
       "      <td>1163.0</td>\n",
       "      <td>15.424</td>\n",
       "      <td>7.600</td>\n",
       "      <td>comedy</td>\n",
       "      <td>US</td>\n",
       "    </tr>\n",
       "  </tbody>\n",
       "</table>\n",
       "</div>"
      ],
      "text/plain": [
       "         id                  title   type  \\\n",
       "0   tm87233  It's a Wonderful Life  MOVIE   \n",
       "1   tm38206               Whoopee!  MOVIE   \n",
       "2  tm143047              Duck Soup  MOVIE   \n",
       "3   tm83884        His Girl Friday  MOVIE   \n",
       "4   ts20945      The Three Stooges   SHOW   \n",
       "\n",
       "                                         description  release_year  \\\n",
       "0  A holiday favourite for generations...  George...          1946   \n",
       "1  Western sheriff Bob Wells is preparing to marr...          1930   \n",
       "2  Rufus T. Firefly is named president/dictator o...          1933   \n",
       "3  Hildy, the journalist former wife of newspaper...          1940   \n",
       "4  The Three Stooges were an American vaudeville ...          1934   \n",
       "\n",
       "  age_certification  runtime  seasons    imdb_id  imdb_score  imdb_votes  \\\n",
       "0                PG      130      0.0  tt0038650         8.6    468814.0   \n",
       "1               NaN       93      0.0  tt0021549         6.4      1091.0   \n",
       "2               NaN       69      0.0  tt0023969         7.8     61085.0   \n",
       "3               NaN       92      0.0  tt0032599         7.8     60412.0   \n",
       "4             TV-PG       19     26.0  tt0850645         8.5      1163.0   \n",
       "\n",
       "   tmdb_popularity  tmdb_score    genre production_country  \n",
       "0           35.635       8.264    drama                 US  \n",
       "1            1.448       7.000   comedy                 US  \n",
       "2           11.664       7.300   comedy                 US  \n",
       "3           12.582       7.400  romance                 US  \n",
       "4           15.424       7.600   comedy                 US  "
      ]
     },
     "execution_count": 36,
     "metadata": {},
     "output_type": "execute_result"
    }
   ],
   "source": [
    "titles.head()"
   ]
  },
  {
   "cell_type": "markdown",
   "id": "b8e7c2cc",
   "metadata": {
    "id": "0JwQddjT0yhG"
   },
   "source": [
    "## Handling the rest of the null values"
   ]
  },
  {
   "cell_type": "markdown",
   "id": "d6447986",
   "metadata": {
    "id": "paHSEgZ2uEY2"
   },
   "source": [
    "Let's see how many null values are left"
   ]
  },
  {
   "cell_type": "code",
   "execution_count": 37,
   "id": "6b41373c",
   "metadata": {
    "colab": {
     "base_uri": "https://localhost:8080/"
    },
    "id": "iwaj_kAuuP5p",
    "outputId": "fe5a45ad-22a2-41e7-c6aa-7661c500d174"
   },
   "outputs": [
    {
     "data": {
      "text/plain": [
       "id                        0\n",
       "title                     0\n",
       "type                      0\n",
       "description             182\n",
       "release_year              0\n",
       "age_certification     12017\n",
       "runtime                   0\n",
       "seasons                   0\n",
       "imdb_id                1945\n",
       "imdb_score             2553\n",
       "imdb_votes             2614\n",
       "tmdb_popularity         724\n",
       "tmdb_score             2956\n",
       "genre                   369\n",
       "production_country      420\n",
       "dtype: int64"
      ]
     },
     "execution_count": 37,
     "metadata": {},
     "output_type": "execute_result"
    }
   ],
   "source": [
    "titles.isna().sum()"
   ]
  },
  {
   "cell_type": "markdown",
   "id": "c687a985",
   "metadata": {
    "id": "HF-W5fbggtPB"
   },
   "source": [
    "Now, let's drop the 'imdb_id' and the 'age_certification' columns."
   ]
  },
  {
   "cell_type": "code",
   "execution_count": 38,
   "id": "97c87d2c",
   "metadata": {
    "id": "C8hfyHAYkqVt"
   },
   "outputs": [],
   "source": [
    "titles.drop(['imdb_id','age_certification'], axis=1,inplace=True)"
   ]
  },
  {
   "cell_type": "markdown",
   "id": "8734a6a6",
   "metadata": {
    "id": "jXuxeZdvz0RU"
   },
   "source": [
    "Let's also get rid of some NaN values that are still left in our dataset."
   ]
  },
  {
   "cell_type": "code",
   "execution_count": 39,
   "id": "be12a923",
   "metadata": {
    "id": "skNAbvObk45b"
   },
   "outputs": [],
   "source": [
    "titles.dropna(inplace=True)"
   ]
  },
  {
   "cell_type": "code",
   "execution_count": 40,
   "id": "8b5107bc",
   "metadata": {
    "colab": {
     "base_uri": "https://localhost:8080/"
    },
    "id": "E2Lkh9a50jBY",
    "outputId": "bdee6302-2067-4147-b3e7-17b56e17e6b8"
   },
   "outputs": [
    {
     "name": "stdout",
     "output_type": "stream",
     "text": [
      "<class 'pandas.core.frame.DataFrame'>\n",
      "Int64Index: 18736 entries, 0 to 25368\n",
      "Data columns (total 13 columns):\n",
      " #   Column              Non-Null Count  Dtype  \n",
      "---  ------              --------------  -----  \n",
      " 0   id                  18736 non-null  object \n",
      " 1   title               18736 non-null  object \n",
      " 2   type                18736 non-null  object \n",
      " 3   description         18736 non-null  object \n",
      " 4   release_year        18736 non-null  int64  \n",
      " 5   runtime             18736 non-null  int64  \n",
      " 6   seasons             18736 non-null  float64\n",
      " 7   imdb_score          18736 non-null  float64\n",
      " 8   imdb_votes          18736 non-null  float64\n",
      " 9   tmdb_popularity     18736 non-null  float64\n",
      " 10  tmdb_score          18736 non-null  float64\n",
      " 11  genre               18736 non-null  object \n",
      " 12  production_country  18736 non-null  object \n",
      "dtypes: float64(5), int64(2), object(6)\n",
      "memory usage: 2.0+ MB\n"
     ]
    }
   ],
   "source": [
    "titles.info()"
   ]
  },
  {
   "cell_type": "markdown",
   "id": "64313eb8",
   "metadata": {},
   "source": [
    "We can see that we still have 18736 values remaining."
   ]
  },
  {
   "cell_type": "markdown",
   "id": "8c3015c1",
   "metadata": {},
   "source": [
    "# Adding the Streaming Platform for the titles"
   ]
  },
  {
   "cell_type": "markdown",
   "id": "32cfec81",
   "metadata": {},
   "source": [
    "I am creating a 'streaming_platform' column to present where the titles are available."
   ]
  },
  {
   "cell_type": "code",
   "execution_count": 41,
   "id": "db084d3a",
   "metadata": {},
   "outputs": [],
   "source": [
    "lt = []\n",
    "for i in titles['id']:\n",
    "    movie_streaming = []\n",
    "    if i in amazon_titles['id'].values:\n",
    "        movie_streaming.append('amazon')\n",
    "    if i in appletv_titles['id'].values:\n",
    "        movie_streaming.append('appletv')\n",
    "    if i in disney_titles['id'].values:\n",
    "        movie_streaming.append('disney+')\n",
    "    if i in hbo_titles['id'].values:\n",
    "        movie_streaming.append('hbomax')\n",
    "    if i in netflix_titles['id'].values:\n",
    "        movie_streaming.append('netflix')\n",
    "    if i in paramount_titles['id'].values:\n",
    "        movie_streaming.append('paramount+')\n",
    "    lt.append(movie_streaming)"
   ]
  },
  {
   "cell_type": "code",
   "execution_count": 42,
   "id": "b11f4717",
   "metadata": {},
   "outputs": [],
   "source": [
    "titles['streaming_platform'] = lt"
   ]
  },
  {
   "cell_type": "code",
   "execution_count": 43,
   "id": "476e4be7",
   "metadata": {},
   "outputs": [
    {
     "data": {
      "text/html": [
       "<div>\n",
       "<style scoped>\n",
       "    .dataframe tbody tr th:only-of-type {\n",
       "        vertical-align: middle;\n",
       "    }\n",
       "\n",
       "    .dataframe tbody tr th {\n",
       "        vertical-align: top;\n",
       "    }\n",
       "\n",
       "    .dataframe thead th {\n",
       "        text-align: right;\n",
       "    }\n",
       "</style>\n",
       "<table border=\"1\" class=\"dataframe\">\n",
       "  <thead>\n",
       "    <tr style=\"text-align: right;\">\n",
       "      <th></th>\n",
       "      <th>id</th>\n",
       "      <th>title</th>\n",
       "      <th>type</th>\n",
       "      <th>description</th>\n",
       "      <th>release_year</th>\n",
       "      <th>runtime</th>\n",
       "      <th>seasons</th>\n",
       "      <th>imdb_score</th>\n",
       "      <th>imdb_votes</th>\n",
       "      <th>tmdb_popularity</th>\n",
       "      <th>tmdb_score</th>\n",
       "      <th>genre</th>\n",
       "      <th>production_country</th>\n",
       "      <th>streaming_platform</th>\n",
       "    </tr>\n",
       "  </thead>\n",
       "  <tbody>\n",
       "    <tr>\n",
       "      <th>0</th>\n",
       "      <td>tm87233</td>\n",
       "      <td>It's a Wonderful Life</td>\n",
       "      <td>MOVIE</td>\n",
       "      <td>A holiday favourite for generations...  George...</td>\n",
       "      <td>1946</td>\n",
       "      <td>130</td>\n",
       "      <td>0.0</td>\n",
       "      <td>8.6</td>\n",
       "      <td>468814.0</td>\n",
       "      <td>35.635</td>\n",
       "      <td>8.264</td>\n",
       "      <td>drama</td>\n",
       "      <td>US</td>\n",
       "      <td>[amazon]</td>\n",
       "    </tr>\n",
       "    <tr>\n",
       "      <th>1</th>\n",
       "      <td>tm38206</td>\n",
       "      <td>Whoopee!</td>\n",
       "      <td>MOVIE</td>\n",
       "      <td>Western sheriff Bob Wells is preparing to marr...</td>\n",
       "      <td>1930</td>\n",
       "      <td>93</td>\n",
       "      <td>0.0</td>\n",
       "      <td>6.4</td>\n",
       "      <td>1091.0</td>\n",
       "      <td>1.448</td>\n",
       "      <td>7.000</td>\n",
       "      <td>comedy</td>\n",
       "      <td>US</td>\n",
       "      <td>[amazon]</td>\n",
       "    </tr>\n",
       "    <tr>\n",
       "      <th>2</th>\n",
       "      <td>tm143047</td>\n",
       "      <td>Duck Soup</td>\n",
       "      <td>MOVIE</td>\n",
       "      <td>Rufus T. Firefly is named president/dictator o...</td>\n",
       "      <td>1933</td>\n",
       "      <td>69</td>\n",
       "      <td>0.0</td>\n",
       "      <td>7.8</td>\n",
       "      <td>61085.0</td>\n",
       "      <td>11.664</td>\n",
       "      <td>7.300</td>\n",
       "      <td>comedy</td>\n",
       "      <td>US</td>\n",
       "      <td>[amazon]</td>\n",
       "    </tr>\n",
       "    <tr>\n",
       "      <th>3</th>\n",
       "      <td>tm83884</td>\n",
       "      <td>His Girl Friday</td>\n",
       "      <td>MOVIE</td>\n",
       "      <td>Hildy, the journalist former wife of newspaper...</td>\n",
       "      <td>1940</td>\n",
       "      <td>92</td>\n",
       "      <td>0.0</td>\n",
       "      <td>7.8</td>\n",
       "      <td>60412.0</td>\n",
       "      <td>12.582</td>\n",
       "      <td>7.400</td>\n",
       "      <td>romance</td>\n",
       "      <td>US</td>\n",
       "      <td>[amazon, paramount+]</td>\n",
       "    </tr>\n",
       "    <tr>\n",
       "      <th>4</th>\n",
       "      <td>ts20945</td>\n",
       "      <td>The Three Stooges</td>\n",
       "      <td>SHOW</td>\n",
       "      <td>The Three Stooges were an American vaudeville ...</td>\n",
       "      <td>1934</td>\n",
       "      <td>19</td>\n",
       "      <td>26.0</td>\n",
       "      <td>8.5</td>\n",
       "      <td>1163.0</td>\n",
       "      <td>15.424</td>\n",
       "      <td>7.600</td>\n",
       "      <td>comedy</td>\n",
       "      <td>US</td>\n",
       "      <td>[amazon]</td>\n",
       "    </tr>\n",
       "  </tbody>\n",
       "</table>\n",
       "</div>"
      ],
      "text/plain": [
       "         id                  title   type  \\\n",
       "0   tm87233  It's a Wonderful Life  MOVIE   \n",
       "1   tm38206               Whoopee!  MOVIE   \n",
       "2  tm143047              Duck Soup  MOVIE   \n",
       "3   tm83884        His Girl Friday  MOVIE   \n",
       "4   ts20945      The Three Stooges   SHOW   \n",
       "\n",
       "                                         description  release_year  runtime  \\\n",
       "0  A holiday favourite for generations...  George...          1946      130   \n",
       "1  Western sheriff Bob Wells is preparing to marr...          1930       93   \n",
       "2  Rufus T. Firefly is named president/dictator o...          1933       69   \n",
       "3  Hildy, the journalist former wife of newspaper...          1940       92   \n",
       "4  The Three Stooges were an American vaudeville ...          1934       19   \n",
       "\n",
       "   seasons  imdb_score  imdb_votes  tmdb_popularity  tmdb_score    genre  \\\n",
       "0      0.0         8.6    468814.0           35.635       8.264    drama   \n",
       "1      0.0         6.4      1091.0            1.448       7.000   comedy   \n",
       "2      0.0         7.8     61085.0           11.664       7.300   comedy   \n",
       "3      0.0         7.8     60412.0           12.582       7.400  romance   \n",
       "4     26.0         8.5      1163.0           15.424       7.600   comedy   \n",
       "\n",
       "  production_country    streaming_platform  \n",
       "0                 US              [amazon]  \n",
       "1                 US              [amazon]  \n",
       "2                 US              [amazon]  \n",
       "3                 US  [amazon, paramount+]  \n",
       "4                 US              [amazon]  "
      ]
     },
     "execution_count": 43,
     "metadata": {},
     "output_type": "execute_result"
    }
   ],
   "source": [
    "titles.head()"
   ]
  },
  {
   "cell_type": "code",
   "execution_count": 44,
   "id": "fb10a0df",
   "metadata": {},
   "outputs": [
    {
     "name": "stdout",
     "output_type": "stream",
     "text": [
      "<class 'pandas.core.frame.DataFrame'>\n",
      "Int64Index: 18736 entries, 0 to 25368\n",
      "Data columns (total 14 columns):\n",
      " #   Column              Non-Null Count  Dtype  \n",
      "---  ------              --------------  -----  \n",
      " 0   id                  18736 non-null  object \n",
      " 1   title               18736 non-null  object \n",
      " 2   type                18736 non-null  object \n",
      " 3   description         18736 non-null  object \n",
      " 4   release_year        18736 non-null  int64  \n",
      " 5   runtime             18736 non-null  int64  \n",
      " 6   seasons             18736 non-null  float64\n",
      " 7   imdb_score          18736 non-null  float64\n",
      " 8   imdb_votes          18736 non-null  float64\n",
      " 9   tmdb_popularity     18736 non-null  float64\n",
      " 10  tmdb_score          18736 non-null  float64\n",
      " 11  genre               18736 non-null  object \n",
      " 12  production_country  18736 non-null  object \n",
      " 13  streaming_platform  18736 non-null  object \n",
      "dtypes: float64(5), int64(2), object(7)\n",
      "memory usage: 2.1+ MB\n"
     ]
    }
   ],
   "source": [
    "titles.info()"
   ]
  },
  {
   "cell_type": "markdown",
   "id": "6eb8cecb",
   "metadata": {},
   "source": [
    "# Saving the data"
   ]
  },
  {
   "cell_type": "code",
   "execution_count": 46,
   "id": "94787ec4",
   "metadata": {},
   "outputs": [],
   "source": [
    "#Saving the data for future use\n",
    "if not os.path.exists('../app/data/clean'):\n",
    "            os.mkdir('../app/data/clean')\n",
    "\n",
    "titles.to_csv('../app/data/clean/title.csv')"
   ]
  }
 ],
 "metadata": {
  "colab": {
   "provenance": []
  },
  "kernelspec": {
   "display_name": "Python 3 (ipykernel)",
   "language": "python",
   "name": "python3"
  },
  "language_info": {
   "codemirror_mode": {
    "name": "ipython",
    "version": 3
   },
   "file_extension": ".py",
   "mimetype": "text/x-python",
   "name": "python",
   "nbconvert_exporter": "python",
   "pygments_lexer": "ipython3",
   "version": "3.9.13"
  },
  "widgets": {
   "application/vnd.jupyter.widget-state+json": {
    "0363b68802744b63b21d6125083a8585": {
     "model_module": "@jupyter-widgets/controls",
     "model_module_version": "1.5.0",
     "model_name": "HTMLModel",
     "state": {
      "_dom_classes": [],
      "_model_module": "@jupyter-widgets/controls",
      "_model_module_version": "1.5.0",
      "_model_name": "HTMLModel",
      "_view_count": null,
      "_view_module": "@jupyter-widgets/controls",
      "_view_module_version": "1.5.0",
      "_view_name": "HTMLView",
      "description": "",
      "description_tooltip": null,
      "layout": "IPY_MODEL_1fcc737c1e0b4940928742a03495b7a4",
      "placeholder": "​",
      "style": "IPY_MODEL_aea426441c1b4dddbeac5ef9b47f1ccf",
      "value": " 0/6 [00:00&lt;?, ?it/s]"
     }
    },
    "088ac1e60bc74ac7b0bb26a8130004c7": {
     "model_module": "@jupyter-widgets/base",
     "model_module_version": "1.2.0",
     "model_name": "LayoutModel",
     "state": {
      "_model_module": "@jupyter-widgets/base",
      "_model_module_version": "1.2.0",
      "_model_name": "LayoutModel",
      "_view_count": null,
      "_view_module": "@jupyter-widgets/base",
      "_view_module_version": "1.2.0",
      "_view_name": "LayoutView",
      "align_content": null,
      "align_items": null,
      "align_self": null,
      "border": null,
      "bottom": null,
      "display": null,
      "flex": null,
      "flex_flow": null,
      "grid_area": null,
      "grid_auto_columns": null,
      "grid_auto_flow": null,
      "grid_auto_rows": null,
      "grid_column": null,
      "grid_gap": null,
      "grid_row": null,
      "grid_template_areas": null,
      "grid_template_columns": null,
      "grid_template_rows": null,
      "height": null,
      "justify_content": null,
      "justify_items": null,
      "left": null,
      "margin": null,
      "max_height": null,
      "max_width": null,
      "min_height": null,
      "min_width": null,
      "object_fit": null,
      "object_position": null,
      "order": null,
      "overflow": null,
      "overflow_x": null,
      "overflow_y": null,
      "padding": null,
      "right": null,
      "top": null,
      "visibility": null,
      "width": null
     }
    },
    "1b91f73214ee4fab8814d6abd6aee6e9": {
     "model_module": "@jupyter-widgets/controls",
     "model_module_version": "1.5.0",
     "model_name": "ProgressStyleModel",
     "state": {
      "_model_module": "@jupyter-widgets/controls",
      "_model_module_version": "1.5.0",
      "_model_name": "ProgressStyleModel",
      "_view_count": null,
      "_view_module": "@jupyter-widgets/base",
      "_view_module_version": "1.2.0",
      "_view_name": "StyleView",
      "bar_color": null,
      "description_width": ""
     }
    },
    "1fcc737c1e0b4940928742a03495b7a4": {
     "model_module": "@jupyter-widgets/base",
     "model_module_version": "1.2.0",
     "model_name": "LayoutModel",
     "state": {
      "_model_module": "@jupyter-widgets/base",
      "_model_module_version": "1.2.0",
      "_model_name": "LayoutModel",
      "_view_count": null,
      "_view_module": "@jupyter-widgets/base",
      "_view_module_version": "1.2.0",
      "_view_name": "LayoutView",
      "align_content": null,
      "align_items": null,
      "align_self": null,
      "border": null,
      "bottom": null,
      "display": null,
      "flex": null,
      "flex_flow": null,
      "grid_area": null,
      "grid_auto_columns": null,
      "grid_auto_flow": null,
      "grid_auto_rows": null,
      "grid_column": null,
      "grid_gap": null,
      "grid_row": null,
      "grid_template_areas": null,
      "grid_template_columns": null,
      "grid_template_rows": null,
      "height": null,
      "justify_content": null,
      "justify_items": null,
      "left": null,
      "margin": null,
      "max_height": null,
      "max_width": null,
      "min_height": null,
      "min_width": null,
      "object_fit": null,
      "object_position": null,
      "order": null,
      "overflow": null,
      "overflow_x": null,
      "overflow_y": null,
      "padding": null,
      "right": null,
      "top": null,
      "visibility": null,
      "width": null
     }
    },
    "4077ecbfaf114a33a1aef2c29b7153b0": {
     "model_module": "@jupyter-widgets/controls",
     "model_module_version": "1.5.0",
     "model_name": "FloatProgressModel",
     "state": {
      "_dom_classes": [],
      "_model_module": "@jupyter-widgets/controls",
      "_model_module_version": "1.5.0",
      "_model_name": "FloatProgressModel",
      "_view_count": null,
      "_view_module": "@jupyter-widgets/controls",
      "_view_module_version": "1.5.0",
      "_view_name": "ProgressView",
      "bar_style": "",
      "description": "",
      "description_tooltip": null,
      "layout": "IPY_MODEL_82b19652a9584a26a1119f8e07964b2b",
      "max": 6,
      "min": 0,
      "orientation": "horizontal",
      "style": "IPY_MODEL_1b91f73214ee4fab8814d6abd6aee6e9",
      "value": 0
     }
    },
    "500042b5ad594363851db60a97899038": {
     "model_module": "@jupyter-widgets/controls",
     "model_module_version": "1.5.0",
     "model_name": "DescriptionStyleModel",
     "state": {
      "_model_module": "@jupyter-widgets/controls",
      "_model_module_version": "1.5.0",
      "_model_name": "DescriptionStyleModel",
      "_view_count": null,
      "_view_module": "@jupyter-widgets/base",
      "_view_module_version": "1.2.0",
      "_view_name": "StyleView",
      "description_width": ""
     }
    },
    "82b19652a9584a26a1119f8e07964b2b": {
     "model_module": "@jupyter-widgets/base",
     "model_module_version": "1.2.0",
     "model_name": "LayoutModel",
     "state": {
      "_model_module": "@jupyter-widgets/base",
      "_model_module_version": "1.2.0",
      "_model_name": "LayoutModel",
      "_view_count": null,
      "_view_module": "@jupyter-widgets/base",
      "_view_module_version": "1.2.0",
      "_view_name": "LayoutView",
      "align_content": null,
      "align_items": null,
      "align_self": null,
      "border": null,
      "bottom": null,
      "display": null,
      "flex": null,
      "flex_flow": null,
      "grid_area": null,
      "grid_auto_columns": null,
      "grid_auto_flow": null,
      "grid_auto_rows": null,
      "grid_column": null,
      "grid_gap": null,
      "grid_row": null,
      "grid_template_areas": null,
      "grid_template_columns": null,
      "grid_template_rows": null,
      "height": null,
      "justify_content": null,
      "justify_items": null,
      "left": null,
      "margin": null,
      "max_height": null,
      "max_width": null,
      "min_height": null,
      "min_width": null,
      "object_fit": null,
      "object_position": null,
      "order": null,
      "overflow": null,
      "overflow_x": null,
      "overflow_y": null,
      "padding": null,
      "right": null,
      "top": null,
      "visibility": null,
      "width": null
     }
    },
    "88a59a392342450b9d814e5007d1577b": {
     "model_module": "@jupyter-widgets/base",
     "model_module_version": "1.2.0",
     "model_name": "LayoutModel",
     "state": {
      "_model_module": "@jupyter-widgets/base",
      "_model_module_version": "1.2.0",
      "_model_name": "LayoutModel",
      "_view_count": null,
      "_view_module": "@jupyter-widgets/base",
      "_view_module_version": "1.2.0",
      "_view_name": "LayoutView",
      "align_content": null,
      "align_items": null,
      "align_self": null,
      "border": null,
      "bottom": null,
      "display": null,
      "flex": null,
      "flex_flow": null,
      "grid_area": null,
      "grid_auto_columns": null,
      "grid_auto_flow": null,
      "grid_auto_rows": null,
      "grid_column": null,
      "grid_gap": null,
      "grid_row": null,
      "grid_template_areas": null,
      "grid_template_columns": null,
      "grid_template_rows": null,
      "height": null,
      "justify_content": null,
      "justify_items": null,
      "left": null,
      "margin": null,
      "max_height": null,
      "max_width": null,
      "min_height": null,
      "min_width": null,
      "object_fit": null,
      "object_position": null,
      "order": null,
      "overflow": null,
      "overflow_x": null,
      "overflow_y": null,
      "padding": null,
      "right": null,
      "top": null,
      "visibility": null,
      "width": null
     }
    },
    "aea426441c1b4dddbeac5ef9b47f1ccf": {
     "model_module": "@jupyter-widgets/controls",
     "model_module_version": "1.5.0",
     "model_name": "DescriptionStyleModel",
     "state": {
      "_model_module": "@jupyter-widgets/controls",
      "_model_module_version": "1.5.0",
      "_model_name": "DescriptionStyleModel",
      "_view_count": null,
      "_view_module": "@jupyter-widgets/base",
      "_view_module_version": "1.2.0",
      "_view_name": "StyleView",
      "description_width": ""
     }
    },
    "bcc73b1ceb0a41fbb62deef26a9cdc52": {
     "model_module": "@jupyter-widgets/controls",
     "model_module_version": "1.5.0",
     "model_name": "HBoxModel",
     "state": {
      "_dom_classes": [],
      "_model_module": "@jupyter-widgets/controls",
      "_model_module_version": "1.5.0",
      "_model_name": "HBoxModel",
      "_view_count": null,
      "_view_module": "@jupyter-widgets/controls",
      "_view_module_version": "1.5.0",
      "_view_name": "HBoxView",
      "box_style": "",
      "children": [
       "IPY_MODEL_e53ae0a7ab724751888a511f24fa36d0",
       "IPY_MODEL_4077ecbfaf114a33a1aef2c29b7153b0",
       "IPY_MODEL_0363b68802744b63b21d6125083a8585"
      ],
      "layout": "IPY_MODEL_088ac1e60bc74ac7b0bb26a8130004c7"
     }
    },
    "e53ae0a7ab724751888a511f24fa36d0": {
     "model_module": "@jupyter-widgets/controls",
     "model_module_version": "1.5.0",
     "model_name": "HTMLModel",
     "state": {
      "_dom_classes": [],
      "_model_module": "@jupyter-widgets/controls",
      "_model_module_version": "1.5.0",
      "_model_name": "HTMLModel",
      "_view_count": null,
      "_view_module": "@jupyter-widgets/controls",
      "_view_module_version": "1.5.0",
      "_view_name": "HTMLView",
      "description": "",
      "description_tooltip": null,
      "layout": "IPY_MODEL_88a59a392342450b9d814e5007d1577b",
      "placeholder": "​",
      "style": "IPY_MODEL_500042b5ad594363851db60a97899038",
      "value": "  0%"
     }
    }
   }
  }
 },
 "nbformat": 4,
 "nbformat_minor": 5
}
