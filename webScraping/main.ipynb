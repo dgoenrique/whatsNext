{
 "cells": [
  {
   "cell_type": "code",
   "execution_count": 1,
   "id": "75c3c71c",
   "metadata": {
    "id": "75c3c71c"
   },
   "outputs": [],
   "source": [
    "import os\n",
    "import json\n",
    "import sys\n",
    "import requests\n",
    "import pandas as pd\n",
    "from tqdm.notebook import tqdm"
   ]
  },
  {
   "cell_type": "code",
   "execution_count": 2,
   "id": "7f81deea",
   "metadata": {
    "id": "7f81deea"
   },
   "outputs": [],
   "source": [
    "# Select the streamings plattaforms you want\n",
    "streamings = {\n",
    "    'amazon':'amp',\n",
    "    'disney':'dnp',\n",
    "    'hbo':'hbm',\n",
    "    'netflix':'nfx',\n",
    "    'paramount':'pmp',\n",
    "    'appletv':'atp'\n",
    "}"
   ]
  },
  {
   "cell_type": "code",
   "execution_count": 3,
   "id": "9df372e9",
   "metadata": {
    "id": "9df372e9"
   },
   "outputs": [],
   "source": [
    "url = \"https://apis.justwatch.com/graphql\""
   ]
  },
  {
   "cell_type": "code",
   "execution_count": 4,
   "id": "bb4f8940",
   "metadata": {
    "id": "bb4f8940"
   },
   "outputs": [],
   "source": [
    "headers = {\n",
    "    \"content-type\": \"application/json\",\n",
    "    \"user-agent\": \"Mozilla/5.0 (Windows NT 10.0; Win64; x64) AppleWebKit/537.36 (KHTML, like Gecko) Chrome/110.0.0.0 Safari/537.36\",\n",
    "    \"accept-encoding\": \"gzip, deflate, br\"\n",
    "}"
   ]
  },
  {
   "cell_type": "code",
   "execution_count": 5,
   "id": "07f9f57a",
   "metadata": {
    "id": "07f9f57a"
   },
   "outputs": [],
   "source": [
    "with open('src/postData.json','r',encoding='utf-8') as file:\n",
    "    postData = json.load(file)"
   ]
  },
  {
   "cell_type": "code",
   "execution_count": 6,
   "id": "41e35ff7",
   "metadata": {
    "id": "41e35ff7"
   },
   "outputs": [],
   "source": [
    "with open('src/query.graphql', 'r', encoding='utf-8') as file:\n",
    "    query = file.read()"
   ]
  },
  {
   "cell_type": "code",
   "execution_count": 7,
   "id": "751b7480",
   "metadata": {
    "id": "751b7480"
   },
   "outputs": [],
   "source": [
    "postData['query'] = query"
   ]
  },
  {
   "cell_type": "code",
   "execution_count": 8,
   "id": "64a8c12b",
   "metadata": {
    "id": "64a8c12b"
   },
   "outputs": [],
   "source": [
    "def setStreaming(plataform):\n",
    "    \"\"\" Set the streaming on query variables. \"\"\"\n",
    "    \n",
    "    postData['variables']['popularTitlesFilter']['packages'] = [streamings[plataform ]]"
   ]
  },
  {
   "cell_type": "code",
   "execution_count": 9,
   "id": "d79e30b5",
   "metadata": {
    "id": "d79e30b5"
   },
   "outputs": [],
   "source": [
    "releasedYear =  [1899, 1950, 1980, 1990, 2000, 2010, 2012, 2014, 2016, 2018, 2020, 2022, 2023]"
   ]
  },
  {
   "cell_type": "code",
   "execution_count": 10,
   "id": "9c189a1c",
   "metadata": {
    "id": "9c189a1c"
   },
   "outputs": [],
   "source": [
    "def getTitles(plataform, cursor = None, titles = None, start = True):\n",
    "    \"\"\" Get all titles available of a plataform. \"\"\"\n",
    "    \n",
    "    if not titles:\n",
    "        titles = []\n",
    "        \n",
    "    if cursor and not start:\n",
    "        postData['variables']['popularAfterCursor'] = cursor\n",
    "    else:\n",
    "        postData['variables']['popularAfterCursor'] = \"\"\n",
    "        \n",
    "    setStreaming(plataform)\n",
    "    \n",
    "    ret = requests.post(url, data=json.dumps(postData), headers=headers)\n",
    "    if ret.status_code != 200:\n",
    "        raise requests.ConnectionError('Connection failed')\n",
    "        sys.exit(-1)\n",
    "    \n",
    "    results = ret.json()['data']['popularTitles']\n",
    "    titles.extend(results['edges'])\n",
    "    \n",
    "    if results['pageInfo']['hasNextPage']:\n",
    "        cursor = results['pageInfo']['endCursor']\n",
    "        getTitles(plataform=plataform, cursor=cursor, titles=titles, start=False)\n",
    "\n",
    "    return titles"
   ]
  },
  {
   "cell_type": "code",
   "execution_count": 11,
   "id": "9abc9407",
   "metadata": {
    "id": "9abc9407"
   },
   "outputs": [],
   "source": [
    "def titleContentParser(title):\n",
    "    \"\"\" Parse the title content to a dictionary. \"\"\"\n",
    "\n",
    "    show = title['node']\n",
    "\n",
    "    content = {}\n",
    "    content['id'] = show['id']\n",
    "    content['title'] = show['content']['title']\n",
    "    content['type'] = show['objectType']\n",
    "    content['description'] = show['content']['shortDescription']\n",
    "    content['release_year'] = show['content']['originalReleaseYear']\n",
    "    content['age_certification'] = show['content']['ageCertification']\n",
    "    content['runtime'] = show['content']['runtime']\n",
    "    content['genres'] = [i['technicalName'] for i in show['content']['genres']]\n",
    "    content['production_countries'] = show['content']['productionCountries']\n",
    "    content['seasons'] = show.get('totalSeasonCount', None)\n",
    "    content['imdb_id'] = show['content']['externalIds']['imdbId']\n",
    "    content['imdb_score'] = show['content']['scoring']['imdbScore']\n",
    "    content['imdb_votes'] = show['content']['scoring']['imdbVotes']\n",
    "    content['tmdb_popularity'] = show['content']['scoring']['tmdbPopularity']\n",
    "    content['tmdb_score'] = show['content']['scoring']['tmdbScore']\n",
    "\n",
    "    credits = [\n",
    "        {\n",
    "            'person_id': i['personId'],\n",
    "            'id': content['id'],\n",
    "            'name': i['name'],\n",
    "            'character': i['characterName'],\n",
    "            'role': i['role']\n",
    "        } for i in show['content']['credits']\n",
    "    ]\n",
    "\n",
    "    return content, credits"
   ]
  },
  {
   "cell_type": "code",
   "execution_count": 12,
   "id": "a56c0bfd",
   "metadata": {
    "id": "a56c0bfd"
   },
   "outputs": [],
   "source": [
    "def saveData(data, save = True, path = ''):\n",
    "    \"\"\" Parse a list of titles and save it to a file. \"\"\"\n",
    "    \n",
    "    titles = []\n",
    "    credits = []\n",
    "    \n",
    "    for title in data:\n",
    "        content, credit = titleContentParser(title)\n",
    "        titles.append(content)\n",
    "        credits.extend(credit)\n",
    "        \n",
    "    if save:\n",
    "        titlesDf = pd.DataFrame(titles)\n",
    "        creditsDf = pd.DataFrame(credits)\n",
    "            \n",
    "        titlesDf.to_csv(path+'titles.csv', index=False)\n",
    "        creditsDf.to_csv(path+'credits.csv', index=False)\n",
    "        \n",
    "    return titles, credits #To enable to see the data if save=False"
   ]
  },
  {
   "cell_type": "code",
   "execution_count": 13,
   "id": "bcd8215e",
   "metadata": {
    "id": "bcd8215e"
   },
   "outputs": [],
   "source": [
    "def getPlataformTitles(plataform, save=True):\n",
    "    \"\"\" Get all titles available on a given plataform. \"\"\"\n",
    "    \n",
    "    raw = []\n",
    "    for i in range(len(releasedYear) - 1):\n",
    "        filterRange = {'min': releasedYear[i]+1, 'max': releasedYear[i+1]}\n",
    "        \n",
    "        postData['variables']['popularTitlesFilter']['releaseYear'] = filterRange  # Set the filter\n",
    "        \n",
    "        yearTitles = getTitles(plataform=plataform)\n",
    "        raw.extend(yearTitles)\n",
    "    \n",
    "    if save:\n",
    "        filePath = f'../data/{plataform}/' #Force to put the data in the 'data' directory\n",
    "        if not os.path.exists(filePath):\n",
    "            os.mkdir(filePath)\n",
    "            \n",
    "    titles, credits = saveData(data=raw, save=save, path=filePath)\n",
    "    \n",
    "    return titles, credits #To enable to see the data if save=False"
   ]
  },
  {
   "cell_type": "code",
   "execution_count": 14,
   "id": "e12b3e28",
   "metadata": {
    "id": "e12b3e28"
   },
   "outputs": [],
   "source": [
    "def main():\n",
    "    data = {} #If you want to use de data after\n",
    "    for plataform in tqdm(streamings.keys()):\n",
    "        titles, credits = getPlataformTitles(plataform=plataform, save=True,)\n",
    "        \n",
    "        data[plataform] = {\n",
    "            'titles': titles,\n",
    "            'credits': credits\n",
    "        }\n",
    "        \n",
    "        print(f\"Titles in {plataform}: {len(data[plataform]['titles'])}\")\n",
    "        print(f\"Credits in {plataform}: {len(data[plataform]['credits'])}\",end='\\n\\n')\n",
    "        \n",
    "            "
   ]
  },
  {
   "cell_type": "code",
   "execution_count": 15,
   "id": "dBePEEAIe3R6",
   "metadata": {
    "colab": {
     "base_uri": "https://localhost:8080/",
     "height": 49,
     "referenced_widgets": [
      "bcc73b1ceb0a41fbb62deef26a9cdc52",
      "e53ae0a7ab724751888a511f24fa36d0",
      "4077ecbfaf114a33a1aef2c29b7153b0",
      "0363b68802744b63b21d6125083a8585",
      "088ac1e60bc74ac7b0bb26a8130004c7",
      "88a59a392342450b9d814e5007d1577b",
      "500042b5ad594363851db60a97899038",
      "82b19652a9584a26a1119f8e07964b2b",
      "1b91f73214ee4fab8814d6abd6aee6e9",
      "1fcc737c1e0b4940928742a03495b7a4",
      "aea426441c1b4dddbeac5ef9b47f1ccf"
     ]
    },
    "id": "dBePEEAIe3R6",
    "outputId": "8020f694-8cca-4459-850a-c2833108ac6a"
   },
   "outputs": [
    {
     "data": {
      "application/vnd.jupyter.widget-view+json": {
       "model_id": "c51a75eb99ab45c5ae68aa3c3158a3b4",
       "version_major": 2,
       "version_minor": 0
      },
      "text/plain": [
       "  0%|          | 0/6 [00:00<?, ?it/s]"
      ]
     },
     "metadata": {},
     "output_type": "display_data"
    },
    {
     "name": "stdout",
     "output_type": "stream",
     "text": [
      "Titles in amazon: 10877\n",
      "Credits in amazon: 140657\n",
      "\n",
      "Titles in disney: 1855\n",
      "Credits in disney: 30693\n",
      "\n",
      "Titles in hbo: 3032\n",
      "Credits in hbo: 64926\n",
      "\n",
      "Titles in netflix: 6135\n",
      "Credits in netflix: 81402\n",
      "\n",
      "Titles in paramount: 3181\n",
      "Credits in paramount: 51214\n",
      "\n",
      "Titles in appletv: 171\n",
      "Credits in appletv: 1869\n",
      "\n"
     ]
    }
   ],
   "source": [
    "main()"
   ]
  },
  {
   "cell_type": "code",
   "execution_count": null,
   "id": "f9ad51cb",
   "metadata": {},
   "outputs": [],
   "source": []
  }
 ],
 "metadata": {
  "colab": {
   "provenance": []
  },
  "kernelspec": {
   "display_name": "Python 3 (ipykernel)",
   "language": "python",
   "name": "python3"
  },
  "language_info": {
   "codemirror_mode": {
    "name": "ipython",
    "version": 3
   },
   "file_extension": ".py",
   "mimetype": "text/x-python",
   "name": "python",
   "nbconvert_exporter": "python",
   "pygments_lexer": "ipython3",
   "version": "3.9.13"
  },
  "widgets": {
   "application/vnd.jupyter.widget-state+json": {
    "0363b68802744b63b21d6125083a8585": {
     "model_module": "@jupyter-widgets/controls",
     "model_module_version": "1.5.0",
     "model_name": "HTMLModel",
     "state": {
      "_dom_classes": [],
      "_model_module": "@jupyter-widgets/controls",
      "_model_module_version": "1.5.0",
      "_model_name": "HTMLModel",
      "_view_count": null,
      "_view_module": "@jupyter-widgets/controls",
      "_view_module_version": "1.5.0",
      "_view_name": "HTMLView",
      "description": "",
      "description_tooltip": null,
      "layout": "IPY_MODEL_1fcc737c1e0b4940928742a03495b7a4",
      "placeholder": "​",
      "style": "IPY_MODEL_aea426441c1b4dddbeac5ef9b47f1ccf",
      "value": " 0/6 [00:00&lt;?, ?it/s]"
     }
    },
    "088ac1e60bc74ac7b0bb26a8130004c7": {
     "model_module": "@jupyter-widgets/base",
     "model_module_version": "1.2.0",
     "model_name": "LayoutModel",
     "state": {
      "_model_module": "@jupyter-widgets/base",
      "_model_module_version": "1.2.0",
      "_model_name": "LayoutModel",
      "_view_count": null,
      "_view_module": "@jupyter-widgets/base",
      "_view_module_version": "1.2.0",
      "_view_name": "LayoutView",
      "align_content": null,
      "align_items": null,
      "align_self": null,
      "border": null,
      "bottom": null,
      "display": null,
      "flex": null,
      "flex_flow": null,
      "grid_area": null,
      "grid_auto_columns": null,
      "grid_auto_flow": null,
      "grid_auto_rows": null,
      "grid_column": null,
      "grid_gap": null,
      "grid_row": null,
      "grid_template_areas": null,
      "grid_template_columns": null,
      "grid_template_rows": null,
      "height": null,
      "justify_content": null,
      "justify_items": null,
      "left": null,
      "margin": null,
      "max_height": null,
      "max_width": null,
      "min_height": null,
      "min_width": null,
      "object_fit": null,
      "object_position": null,
      "order": null,
      "overflow": null,
      "overflow_x": null,
      "overflow_y": null,
      "padding": null,
      "right": null,
      "top": null,
      "visibility": null,
      "width": null
     }
    },
    "1b91f73214ee4fab8814d6abd6aee6e9": {
     "model_module": "@jupyter-widgets/controls",
     "model_module_version": "1.5.0",
     "model_name": "ProgressStyleModel",
     "state": {
      "_model_module": "@jupyter-widgets/controls",
      "_model_module_version": "1.5.0",
      "_model_name": "ProgressStyleModel",
      "_view_count": null,
      "_view_module": "@jupyter-widgets/base",
      "_view_module_version": "1.2.0",
      "_view_name": "StyleView",
      "bar_color": null,
      "description_width": ""
     }
    },
    "1fcc737c1e0b4940928742a03495b7a4": {
     "model_module": "@jupyter-widgets/base",
     "model_module_version": "1.2.0",
     "model_name": "LayoutModel",
     "state": {
      "_model_module": "@jupyter-widgets/base",
      "_model_module_version": "1.2.0",
      "_model_name": "LayoutModel",
      "_view_count": null,
      "_view_module": "@jupyter-widgets/base",
      "_view_module_version": "1.2.0",
      "_view_name": "LayoutView",
      "align_content": null,
      "align_items": null,
      "align_self": null,
      "border": null,
      "bottom": null,
      "display": null,
      "flex": null,
      "flex_flow": null,
      "grid_area": null,
      "grid_auto_columns": null,
      "grid_auto_flow": null,
      "grid_auto_rows": null,
      "grid_column": null,
      "grid_gap": null,
      "grid_row": null,
      "grid_template_areas": null,
      "grid_template_columns": null,
      "grid_template_rows": null,
      "height": null,
      "justify_content": null,
      "justify_items": null,
      "left": null,
      "margin": null,
      "max_height": null,
      "max_width": null,
      "min_height": null,
      "min_width": null,
      "object_fit": null,
      "object_position": null,
      "order": null,
      "overflow": null,
      "overflow_x": null,
      "overflow_y": null,
      "padding": null,
      "right": null,
      "top": null,
      "visibility": null,
      "width": null
     }
    },
    "4077ecbfaf114a33a1aef2c29b7153b0": {
     "model_module": "@jupyter-widgets/controls",
     "model_module_version": "1.5.0",
     "model_name": "FloatProgressModel",
     "state": {
      "_dom_classes": [],
      "_model_module": "@jupyter-widgets/controls",
      "_model_module_version": "1.5.0",
      "_model_name": "FloatProgressModel",
      "_view_count": null,
      "_view_module": "@jupyter-widgets/controls",
      "_view_module_version": "1.5.0",
      "_view_name": "ProgressView",
      "bar_style": "",
      "description": "",
      "description_tooltip": null,
      "layout": "IPY_MODEL_82b19652a9584a26a1119f8e07964b2b",
      "max": 6,
      "min": 0,
      "orientation": "horizontal",
      "style": "IPY_MODEL_1b91f73214ee4fab8814d6abd6aee6e9",
      "value": 0
     }
    },
    "500042b5ad594363851db60a97899038": {
     "model_module": "@jupyter-widgets/controls",
     "model_module_version": "1.5.0",
     "model_name": "DescriptionStyleModel",
     "state": {
      "_model_module": "@jupyter-widgets/controls",
      "_model_module_version": "1.5.0",
      "_model_name": "DescriptionStyleModel",
      "_view_count": null,
      "_view_module": "@jupyter-widgets/base",
      "_view_module_version": "1.2.0",
      "_view_name": "StyleView",
      "description_width": ""
     }
    },
    "82b19652a9584a26a1119f8e07964b2b": {
     "model_module": "@jupyter-widgets/base",
     "model_module_version": "1.2.0",
     "model_name": "LayoutModel",
     "state": {
      "_model_module": "@jupyter-widgets/base",
      "_model_module_version": "1.2.0",
      "_model_name": "LayoutModel",
      "_view_count": null,
      "_view_module": "@jupyter-widgets/base",
      "_view_module_version": "1.2.0",
      "_view_name": "LayoutView",
      "align_content": null,
      "align_items": null,
      "align_self": null,
      "border": null,
      "bottom": null,
      "display": null,
      "flex": null,
      "flex_flow": null,
      "grid_area": null,
      "grid_auto_columns": null,
      "grid_auto_flow": null,
      "grid_auto_rows": null,
      "grid_column": null,
      "grid_gap": null,
      "grid_row": null,
      "grid_template_areas": null,
      "grid_template_columns": null,
      "grid_template_rows": null,
      "height": null,
      "justify_content": null,
      "justify_items": null,
      "left": null,
      "margin": null,
      "max_height": null,
      "max_width": null,
      "min_height": null,
      "min_width": null,
      "object_fit": null,
      "object_position": null,
      "order": null,
      "overflow": null,
      "overflow_x": null,
      "overflow_y": null,
      "padding": null,
      "right": null,
      "top": null,
      "visibility": null,
      "width": null
     }
    },
    "88a59a392342450b9d814e5007d1577b": {
     "model_module": "@jupyter-widgets/base",
     "model_module_version": "1.2.0",
     "model_name": "LayoutModel",
     "state": {
      "_model_module": "@jupyter-widgets/base",
      "_model_module_version": "1.2.0",
      "_model_name": "LayoutModel",
      "_view_count": null,
      "_view_module": "@jupyter-widgets/base",
      "_view_module_version": "1.2.0",
      "_view_name": "LayoutView",
      "align_content": null,
      "align_items": null,
      "align_self": null,
      "border": null,
      "bottom": null,
      "display": null,
      "flex": null,
      "flex_flow": null,
      "grid_area": null,
      "grid_auto_columns": null,
      "grid_auto_flow": null,
      "grid_auto_rows": null,
      "grid_column": null,
      "grid_gap": null,
      "grid_row": null,
      "grid_template_areas": null,
      "grid_template_columns": null,
      "grid_template_rows": null,
      "height": null,
      "justify_content": null,
      "justify_items": null,
      "left": null,
      "margin": null,
      "max_height": null,
      "max_width": null,
      "min_height": null,
      "min_width": null,
      "object_fit": null,
      "object_position": null,
      "order": null,
      "overflow": null,
      "overflow_x": null,
      "overflow_y": null,
      "padding": null,
      "right": null,
      "top": null,
      "visibility": null,
      "width": null
     }
    },
    "aea426441c1b4dddbeac5ef9b47f1ccf": {
     "model_module": "@jupyter-widgets/controls",
     "model_module_version": "1.5.0",
     "model_name": "DescriptionStyleModel",
     "state": {
      "_model_module": "@jupyter-widgets/controls",
      "_model_module_version": "1.5.0",
      "_model_name": "DescriptionStyleModel",
      "_view_count": null,
      "_view_module": "@jupyter-widgets/base",
      "_view_module_version": "1.2.0",
      "_view_name": "StyleView",
      "description_width": ""
     }
    },
    "bcc73b1ceb0a41fbb62deef26a9cdc52": {
     "model_module": "@jupyter-widgets/controls",
     "model_module_version": "1.5.0",
     "model_name": "HBoxModel",
     "state": {
      "_dom_classes": [],
      "_model_module": "@jupyter-widgets/controls",
      "_model_module_version": "1.5.0",
      "_model_name": "HBoxModel",
      "_view_count": null,
      "_view_module": "@jupyter-widgets/controls",
      "_view_module_version": "1.5.0",
      "_view_name": "HBoxView",
      "box_style": "",
      "children": [
       "IPY_MODEL_e53ae0a7ab724751888a511f24fa36d0",
       "IPY_MODEL_4077ecbfaf114a33a1aef2c29b7153b0",
       "IPY_MODEL_0363b68802744b63b21d6125083a8585"
      ],
      "layout": "IPY_MODEL_088ac1e60bc74ac7b0bb26a8130004c7"
     }
    },
    "e53ae0a7ab724751888a511f24fa36d0": {
     "model_module": "@jupyter-widgets/controls",
     "model_module_version": "1.5.0",
     "model_name": "HTMLModel",
     "state": {
      "_dom_classes": [],
      "_model_module": "@jupyter-widgets/controls",
      "_model_module_version": "1.5.0",
      "_model_name": "HTMLModel",
      "_view_count": null,
      "_view_module": "@jupyter-widgets/controls",
      "_view_module_version": "1.5.0",
      "_view_name": "HTMLView",
      "description": "",
      "description_tooltip": null,
      "layout": "IPY_MODEL_88a59a392342450b9d814e5007d1577b",
      "placeholder": "​",
      "style": "IPY_MODEL_500042b5ad594363851db60a97899038",
      "value": "  0%"
     }
    }
   }
  }
 },
 "nbformat": 4,
 "nbformat_minor": 5
}
